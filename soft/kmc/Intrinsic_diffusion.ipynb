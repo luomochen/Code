{
 "cells": [
  {
   "cell_type": "code",
   "execution_count": 1,
   "metadata": {},
   "outputs": [],
   "source": [
    "import numpy as np\n",
    "import matplotlib.pyplot as plt\n",
    "from scipy.constants import physical_constants"
   ]
  },
  {
   "cell_type": "code",
   "execution_count": 2,
   "metadata": {},
   "outputs": [],
   "source": [
    "def reaction_rate(event):\n",
    "    kb = physical_constants['Boltzmann constant in eV/K'][0]\n",
    "    beta = 1.0/(kb * event[3])\n",
    "    rate = event[0] * np.exp(-beta*(event[1]))\n",
    "    return rate"
   ]
  },
  {
   "cell_type": "code",
   "execution_count": 3,
   "metadata": {},
   "outputs": [],
   "source": [
    "def rates(events):\n",
    "    rate_list = []\n",
    "    for event in events:\n",
    "        rate = reaction_rate(event)\n",
    "        rate_list.append(rate)\n",
    "    rate_total = np.sum(rate_list)\n",
    "    return rate_total, rate_list\n",
    "\n",
    "def kmc(events):\n",
    "    rate_total, rate_list = rates(events)\n",
    "    rho1 = np.random.random()\n",
    "    target = rho1 * rate_total\n",
    "    sum_l = rate_list[0]\n",
    "    if target < sum_l:\n",
    "        events[0][4] = events[0][4] + 1\n",
    "    else:\n",
    "        for i in range(1, len(events)):\n",
    "            sum_U = sum_l + rate_list[i]\n",
    "            if target < sum_U:\n",
    "                events[i][4] = events[i][4] + 1\n",
    "                break\n",
    "            sum_l = sum_U\n",
    "    rho2 = np.random.random()\n",
    "    dt = -np.log(rho2) / rate_total\n",
    "    return dt"
   ]
  },
  {
   "cell_type": "code",
   "execution_count": 4,
   "metadata": {},
   "outputs": [],
   "source": [
    "path1 = [1.22E12, 0.5, [0.5, 0, 0], 500, 0]\n",
    "path2 = [1.22E12, 0.5, [0, 0.5, 0], 500, 0]\n",
    "path3 = [1.22E12, 0.5, [0, 0, 0.5], 500, 0]\n",
    "path4 = [1.22E12, 0.5, [-0.5, 0, 0], 500, 0]\n",
    "path5 = [1.22E12, 0.5, [0, -0.5, 0], 500, 0]\n",
    "path6 = [1.22E12, 0.5, [0, 0, -0.5], 500, 0]\n",
    "events = [path1, path2, path3, path4, path5, path6]\n",
    "nsteps = 1000000"
   ]
  },
  {
   "cell_type": "code",
   "execution_count": 5,
   "metadata": {},
   "outputs": [
    {
     "name": "stdout",
     "output_type": "stream",
     "text": [
      "0.014992843124294183\n",
      "(66793299.203879185, [11132216.533979865, 11132216.533979865, 11132216.533979865, 11132216.533979865, 11132216.533979865, 11132216.533979865])\n"
     ]
    }
   ],
   "source": [
    "t = 0\n",
    "for i in range(nsteps):\n",
    "    dt = kmc(events)\n",
    "    t = t + dt\n",
    "print(t)\n",
    "print(rates(events))"
   ]
  },
  {
   "cell_type": "code",
   "execution_count": 6,
   "metadata": {},
   "outputs": [
    {
     "name": "stdout",
     "output_type": "stream",
     "text": [
      "1.0988277215059893e-12\n"
     ]
    }
   ],
   "source": [
    "smrd = 0\n",
    "for event in events:\n",
    "   smrd += np.square(0.5 * 4.194E-8) * np.float64(event[-1])\n",
    "D = smrd / 6 * t\n",
    "print(D)"
   ]
  }
 ],
 "metadata": {
  "kernelspec": {
   "display_name": "base",
   "language": "python",
   "name": "python3"
  },
  "language_info": {
   "codemirror_mode": {
    "name": "ipython",
    "version": 3
   },
   "file_extension": ".py",
   "mimetype": "text/x-python",
   "name": "python",
   "nbconvert_exporter": "python",
   "pygments_lexer": "ipython3",
   "version": "3.11.7"
  }
 },
 "nbformat": 4,
 "nbformat_minor": 2
}
