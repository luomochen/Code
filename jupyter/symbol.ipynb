{
 "cells": [
  {
   "cell_type": "code",
   "execution_count": 44,
   "metadata": {},
   "outputs": [
    {
     "data": {
      "text/latex": [
       "$\\displaystyle \\sqrt{2} \\sqrt{\\frac{1}{a + t v}}$"
      ],
      "text/plain": [
       "sqrt(2)*sqrt(1/(a + t*v))"
      ]
     },
     "execution_count": 44,
     "metadata": {},
     "output_type": "execute_result"
    }
   ],
   "source": [
    "import numpy as np\n",
    "import pandas as pd\n",
    "import sympy as sym\n",
    "\n",
    "import seaborn as sns\n",
    "\n",
    "a, v, t = sym.symbols('a, v, t')\n",
    "w = a + v * t\n",
    "part1 = sym.sqrt(2 / w)\n",
    "part1"
   ]
  },
  {
   "cell_type": "code",
   "execution_count": 45,
   "metadata": {},
   "outputs": [
    {
     "data": {
      "text/latex": [
       "$\\displaystyle \\sin{\\left(\\frac{\\pi n x}{a + t v} \\right)}$"
      ],
      "text/plain": [
       "sin(pi*n*x/(a + t*v))"
      ]
     },
     "execution_count": 45,
     "metadata": {},
     "output_type": "execute_result"
    }
   ],
   "source": [
    "n, x = sym.symbols('n, x')\n",
    "part2 = sym.sin(n * sym.pi * x / w)\n",
    "part2"
   ]
  },
  {
   "cell_type": "code",
   "execution_count": 46,
   "metadata": {},
   "outputs": [
    {
     "data": {
      "text/latex": [
       "$\\displaystyle e^{\\frac{i \\left(- 2 E a t + m v x^{2}\\right)}{2 \\hbar \\left(a + t v\\right)}}$"
      ],
      "text/plain": [
       "exp(I*(-2*E*a*t + m*v*x**2)/(2*hbar*(a + t*v)))"
      ]
     },
     "execution_count": 46,
     "metadata": {},
     "output_type": "execute_result"
    }
   ],
   "source": [
    "m, v, E, hbar = sym.symbols('m, v, E, hbar')\n",
    "part3 = sym.exp(sym.I*(m*v*x*x - 2*E*a*t)/2/hbar/w)\n",
    "part3"
   ]
  },
  {
   "cell_type": "code",
   "execution_count": 47,
   "metadata": {},
   "outputs": [
    {
     "data": {
      "text/latex": [
       "$\\displaystyle \\sqrt{2} \\sqrt{\\frac{1}{a + t v}} e^{\\frac{i \\left(- 2 E a t + m v x^{2}\\right)}{2 \\hbar \\left(a + t v\\right)}} \\sin{\\left(\\frac{\\pi n x}{a + t v} \\right)}$"
      ],
      "text/plain": [
       "sqrt(2)*sqrt(1/(a + t*v))*exp(I*(-2*E*a*t + m*v*x**2)/(2*hbar*(a + t*v)))*sin(pi*n*x/(a + t*v))"
      ]
     },
     "execution_count": 47,
     "metadata": {},
     "output_type": "execute_result"
    }
   ],
   "source": [
    "phi = part1 * part2 * part3\n",
    "phi"
   ]
  },
  {
   "cell_type": "code",
   "execution_count": 48,
   "metadata": {},
   "outputs": [
    {
     "data": {
      "text/latex": [
       "$\\displaystyle \\frac{\\sqrt{2} i \\left(- 2 \\pi \\hbar n v x \\cos{\\left(\\frac{\\pi n x}{a + t v} \\right)} - \\hbar v \\left(a + t v\\right) \\sin{\\left(\\frac{\\pi n x}{a + t v} \\right)} - i \\left(2 E a \\left(a + t v\\right) + v \\left(- 2 E a t + m v x^{2}\\right)\\right) \\sin{\\left(\\frac{\\pi n x}{a + t v} \\right)}\\right) \\sqrt{\\frac{1}{a + t v}} e^{- \\frac{i \\left(2 E a t - m v x^{2}\\right)}{2 \\hbar \\left(a + t v\\right)}}}{2 \\left(a + t v\\right)^{2}}$"
      ],
      "text/plain": [
       "sqrt(2)*I*(-2*pi*hbar*n*v*x*cos(pi*n*x/(a + t*v)) - hbar*v*(a + t*v)*sin(pi*n*x/(a + t*v)) - I*(2*E*a*(a + t*v) + v*(-2*E*a*t + m*v*x**2))*sin(pi*n*x/(a + t*v)))*sqrt(1/(a + t*v))*exp(-I*(2*E*a*t - m*v*x**2)/(2*hbar*(a + t*v)))/(2*(a + t*v)**2)"
      ]
     },
     "execution_count": 48,
     "metadata": {},
     "output_type": "execute_result"
    }
   ],
   "source": [
    "sym.simplify(sym.I * hbar * sym.diff(phi, t))"
   ]
  },
  {
   "cell_type": "code",
   "execution_count": 49,
   "metadata": {},
   "outputs": [
    {
     "data": {
      "text/latex": [
       "$\\displaystyle \\frac{\\sqrt{2} \\left(\\pi^{2} \\hbar^{2} n^{2} \\sin{\\left(\\frac{\\pi n x}{a + t v} \\right)} - 2 i \\pi \\hbar m n v x \\cos{\\left(\\frac{\\pi n x}{a + t v} \\right)} - m v \\left(i \\hbar \\left(a + t v\\right) - m v x^{2}\\right) \\sin{\\left(\\frac{\\pi n x}{a + t v} \\right)}\\right) \\sqrt{\\frac{1}{a + t v}} e^{- \\frac{i \\left(2 E a t - m v x^{2}\\right)}{2 \\hbar \\left(a + t v\\right)}}}{2 m \\left(a + t v\\right)^{2}}$"
      ],
      "text/plain": [
       "sqrt(2)*(pi**2*hbar**2*n**2*sin(pi*n*x/(a + t*v)) - 2*I*pi*hbar*m*n*v*x*cos(pi*n*x/(a + t*v)) - m*v*(I*hbar*(a + t*v) - m*v*x**2)*sin(pi*n*x/(a + t*v)))*sqrt(1/(a + t*v))*exp(-I*(2*E*a*t - m*v*x**2)/(2*hbar*(a + t*v)))/(2*m*(a + t*v)**2)"
      ]
     },
     "execution_count": 49,
     "metadata": {},
     "output_type": "execute_result"
    }
   ],
   "source": [
    "sym.simplify(- (hbar**2/2/m) * sym.diff(phi, x, 2))"
   ]
  }
 ],
 "metadata": {
  "kernelspec": {
   "display_name": "doped",
   "language": "python",
   "name": "python3"
  },
  "language_info": {
   "codemirror_mode": {
    "name": "ipython",
    "version": 3
   },
   "file_extension": ".py",
   "mimetype": "text/x-python",
   "name": "python",
   "nbconvert_exporter": "python",
   "pygments_lexer": "ipython3",
   "version": "3.12.2"
  }
 },
 "nbformat": 4,
 "nbformat_minor": 2
}
