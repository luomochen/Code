{
 "cells": [
  {
   "cell_type": "code",
   "execution_count": 25,
   "metadata": {},
   "outputs": [],
   "source": [
    "import numpy as np\n",
    "from scipy.constants import Boltzmann, Avogadro, e"
   ]
  },
  {
   "cell_type": "code",
   "execution_count": 26,
   "metadata": {},
   "outputs": [],
   "source": [
    "def point_cal(point, Tem_in_Kelvin=False, prefactor_in_m=False) -> None:\n",
    "    if Tem_in_Kelvin == True:\n",
    "        point[0] = point[0] + 273.15\n",
    "    if prefactor_in_m == True:\n",
    "        point[1] = point[1]*(10**-4)\n",
    "    x = 1000 / point[0]\n",
    "    y = np.log10(point[1])\n",
    "    print(f\"x: {x}, y: {y}\") "
   ]
  },
  {
   "cell_type": "code",
   "execution_count": 27,
   "metadata": {},
   "outputs": [],
   "source": [
    "def parameter_cal(barrier, D0, prefactor_in_m=False) -> None:\n",
    "    if prefactor_in_m == True:\n",
    "        D0 = D0*(10**-4)\n",
    "    intercept = np.log10(D0)\n",
    "    delta_G = barrier/Avogadro/e\n",
    "    slope = delta_G*e/1000/np.log(10)/Boltzmann\n",
    "    print(f\"slope: {round(slope, 5)}, intercept: {round(intercept, 5)}, prefactor: {D0} m^2/s, barrier: {round(delta_G, 5)} eV\")"
   ]
  },
  {
   "cell_type": "markdown",
   "metadata": {},
   "source": [
    "# Experiment"
   ]
  },
  {
   "cell_type": "markdown",
   "metadata": {},
   "source": [
    "## [1] W. Kunz, H. Münzel, and U. Kunz, Journal of Nuclear Materials 136, 6 (1985).\n",
    "\n",
    "### Zircaloy-2\n",
    "\n",
    "|Temperature ($^{\\circ} C$)|Diffusion coffecient ($cm^2/s$)|\n",
    "|----|----|\n",
    "|200|$2 \\times 10 ^{-18}$|\n",
    "|250|$(1.0 \\pm 0.4) \\times 10^{-17}$|\n",
    "|300|$8 \\times 10^{-17}$|\n",
    "|350|$(2.6 \\pm 1.7) \\times 10^{-16}$|\n",
    "\n",
    "$$D[cm^2/s] = 1.3 \\times 10^{-9} exp(-\\frac{81100 J/mol}{RT})$$"
   ]
  },
  {
   "cell_type": "code",
   "execution_count": 28,
   "metadata": {},
   "outputs": [
    {
     "name": "stdout",
     "output_type": "stream",
     "text": [
      "x: 2.113494663425975, y: -21.69897000433602\n",
      "x: 1.9114976584153685, y: -21.0\n",
      "x: 1.7447439588240425, y: -20.096910013008056\n",
      "x: 1.6047500601781273, y: -19.585026652029182\n"
     ]
    }
   ],
   "source": [
    "data_list = [[200, 2E-18], [250, 1E-17], [300, 8E-17], [350, 2.6E-16]]\n",
    "for data in data_list:\n",
    "    point_cal(data, Tem_in_Kelvin=True, prefactor_in_m=True)"
   ]
  },
  {
   "cell_type": "code",
   "execution_count": 29,
   "metadata": {},
   "outputs": [
    {
     "name": "stdout",
     "output_type": "stream",
     "text": [
      "slope: 4.23615, intercept: -12.88606, prefactor: 1.3e-13 m^2/s, barrier: 0.84054 eV\n"
     ]
    }
   ],
   "source": [
    "parameter_cal(81100, 1.3E-9, prefactor_in_m=True)"
   ]
  },
  {
   "cell_type": "markdown",
   "metadata": {},
   "source": [
    "## [2] D. Khatamian and F. D. Manchester, Journal of Nuclear Materials 166, 300 (1989).\n",
    "\n",
    "### Zr\n",
    "$$D[m^2/s] = 1.13 \\times 10^{-12} exp(-\\frac{100.1kJ/mol}{RT})$$"
   ]
  },
  {
   "cell_type": "code",
   "execution_count": 30,
   "metadata": {},
   "outputs": [
    {
     "name": "stdout",
     "output_type": "stream",
     "text": [
      "slope: 5.22859, intercept: -11.94692, prefactor: 1.13e-12 m^2/s, barrier: 1.03746 eV\n"
     ]
    }
   ],
   "source": [
    "parameter_cal(100100, 1.13E-12)"
   ]
  },
  {
   "cell_type": "markdown",
   "metadata": {},
   "source": [
    "### Zr-2.5 wt% Nb\n",
    "$$D[m^2/s] = 3.05 \\times 10^{-13} exp(-\\frac{53.7kJ/mol}{RT})$$"
   ]
  },
  {
   "cell_type": "code",
   "execution_count": 31,
   "metadata": {},
   "outputs": [
    {
     "name": "stdout",
     "output_type": "stream",
     "text": [
      "slope: 2.80495, intercept: -12.5157, prefactor: 3.05e-13 m^2/s, barrier: 0.55656 eV\n"
     ]
    }
   ],
   "source": [
    "parameter_cal(53700, 3.05E-13)"
   ]
  },
  {
   "cell_type": "markdown",
   "metadata": {},
   "source": [
    "## [3] N. S. McIntyre, R. D. Davidson, C. G. Weisener, G. M. Good, G. R. Mount, B. D. Warr, and M. Elmoselhi, Journal of Vacuum Science & Technology A: Vacuum, Surfaces, and Films 9, 1402 (1991).\n",
    "\n",
    "### Zr-2.5% Nb\n",
    "|Temperature ($^{\\circ} C$)|Diffusion coffecient ($m^2/s$)|\n",
    "|----|----|\n",
    "|350|$1.7 \\times 10^{-19}$|"
   ]
  },
  {
   "cell_type": "code",
   "execution_count": 32,
   "metadata": {},
   "outputs": [
    {
     "name": "stdout",
     "output_type": "stream",
     "text": [
      "x: 1.6047500601781273, y: -18.769551078621728\n"
     ]
    }
   ],
   "source": [
    "data = [350, 1.7E-19]\n",
    "point_cal(data, Tem_in_Kelvin=True)"
   ]
  },
  {
   "cell_type": "markdown",
   "metadata": {},
   "source": [
    "## [4] N. S. McIntyre, R. D. Davidson, C. G. Weisener, B. D. Warr, and M. B. Elmoselhi, Surf. Interface Anal. 17, 757 (1991).\n",
    "\n",
    "### Zr-2.5% Nb\n",
    "|Temperature ($^{\\circ} C$)|Diffusion coffecient ($m^2/s$)|\n",
    "|----|----|\n",
    "|350|$2 \\times 10^{-19}$|\n",
    "|300|$1.3 \\times 10^{-19}$|\n",
    "|280|$1.1 \\times 10^{-19}$|\n",
    "\n",
    "$$D[m^2/s] = 8.0912 \\times 10^{-18} exp(-\\frac{20.042kJ/mol}{RT})$$"
   ]
  },
  {
   "cell_type": "code",
   "execution_count": 33,
   "metadata": {},
   "outputs": [
    {
     "name": "stdout",
     "output_type": "stream",
     "text": [
      "x: 1.6047500601781273, y: -22.69897000433602\n",
      "x: 1.7447439588240425, y: -22.886056647693163\n",
      "x: 1.8078278947844166, y: -22.958607314841775\n"
     ]
    }
   ],
   "source": [
    "data_list = [[350, 2E-19], [300, 1.3E-19], [280, 1.1E-19]]\n",
    "for data in data_list:\n",
    "    point_cal(data, Tem_in_Kelvin=True, prefactor_in_m=True)"
   ]
  },
  {
   "cell_type": "code",
   "execution_count": 34,
   "metadata": {},
   "outputs": [
    {
     "name": "stdout",
     "output_type": "stream",
     "text": [
      "slope: 1.04687, intercept: -17.09199, prefactor: 8.0912e-18 m^2/s, barrier: 0.20772 eV\n"
     ]
    }
   ],
   "source": [
    "parameter_cal(20042, 8.0912E-18)"
   ]
  },
  {
   "cell_type": "markdown",
   "metadata": {},
   "source": [
    "## [5] D. Khatamian, Journal of Alloys and Compounds 253–254, 471 (1997).\n",
    "\n",
    "### Zr–20Nb"
   ]
  },
  {
   "cell_type": "code",
   "execution_count": 35,
   "metadata": {},
   "outputs": [
    {
     "name": "stdout",
     "output_type": "stream",
     "text": [
      "slope: 7.83066, intercept: -5.58503, prefactor: 2.6e-06 m^2/s, barrier: 1.55377 eV\n"
     ]
    }
   ],
   "source": [
    "parameter_cal(149916, 2.6E-6)"
   ]
  },
  {
   "cell_type": "markdown",
   "metadata": {},
   "source": [
    "### Zr-15Nb"
   ]
  },
  {
   "cell_type": "code",
   "execution_count": 36,
   "metadata": {},
   "outputs": [
    {
     "name": "stdout",
     "output_type": "stream",
     "text": [
      "slope: 4.67277, intercept: -9.70115, prefactor: 1.99e-10 m^2/s, barrier: 0.92718 eV\n"
     ]
    }
   ],
   "source": [
    "parameter_cal(89459, 1.99E-10)"
   ]
  },
  {
   "cell_type": "markdown",
   "metadata": {},
   "source": [
    "### Zircaloy-2"
   ]
  },
  {
   "cell_type": "code",
   "execution_count": 37,
   "metadata": {},
   "outputs": [
    {
     "name": "stdout",
     "output_type": "stream",
     "text": [
      "slope: 5.99856, intercept: -8.55909, prefactor: 2.76e-09 m^2/s, barrier: 1.19024 eV\n"
     ]
    }
   ],
   "source": [
    "parameter_cal(114841, 2.76E-9)"
   ]
  },
  {
   "cell_type": "markdown",
   "metadata": {},
   "source": [
    "## [6] D. Khatamian, DDF 297–301, 631 (2010).\n",
    "\n",
    "### m-zirconia\n",
    "\n",
    "$$D[m^2/s] = 2.4 \\times 10^{-11} exp(-\\frac{88087J/mol}{RT})$$"
   ]
  },
  {
   "cell_type": "code",
   "execution_count": 38,
   "metadata": {},
   "outputs": [
    {
     "name": "stdout",
     "output_type": "stream",
     "text": [
      "slope: 4.6011, intercept: -10.61979, prefactor: 2.4e-11 m^2/s, barrier: 0.91296 eV\n"
     ]
    }
   ],
   "source": [
    "parameter_cal(88087, 2.4E-11)"
   ]
  },
  {
   "cell_type": "markdown",
   "metadata": {},
   "source": [
    "### ysz-zirconia\n",
    "$$D[m^2/s] = 8.56 \\times 10^{-9} exp(-\\frac{103265J/mol}{RT})$$"
   ]
  },
  {
   "cell_type": "code",
   "execution_count": 39,
   "metadata": {},
   "outputs": [
    {
     "name": "stdout",
     "output_type": "stream",
     "text": [
      "slope: 5.3939, intercept: -8.06753, prefactor: 8.56e-09 m^2/s, barrier: 1.07027 eV\n"
     ]
    }
   ],
   "source": [
    "parameter_cal(103265, 8.56E-9)"
   ]
  },
  {
   "cell_type": "markdown",
   "metadata": {},
   "source": [
    "## [7] I. Takagi, K. Une, S. Miyamura, and T. Kobayashi, Journal of Nuclear Materials 419, 339 (2011).\n",
    "### GNF-Ziron\n",
    "\n",
    "|Temperature (K)|Diffusion coffecient ($cm^2/s$)|\n",
    "|----|----|\n",
    "|523|$8.6 \\times 10^{-15}$|\n",
    "|573|$1.4 \\times 10^{-14}$|\n",
    "|673|$2.1 \\times 10^{-14}$|\n",
    "\n",
    "$$D[cm^2/s] = 4.5 \\times 10^{-13} exp(-\\frac{17000J/mol}{RT})$$"
   ]
  },
  {
   "cell_type": "code",
   "execution_count": 40,
   "metadata": {},
   "outputs": [
    {
     "name": "stdout",
     "output_type": "stream",
     "text": [
      "x: 1.9120458891013383, y: -18.065501548756433\n",
      "x: 1.7452006980802792, y: -17.853871964321762\n",
      "x: 1.485884101040119, y: -17.67778070526608\n"
     ]
    }
   ],
   "source": [
    "data_list = [[523, 8.6E-15], [573, 1.4E-14], [673, 2.1E-14]]\n",
    "for data in data_list:\n",
    "    point_cal(data, prefactor_in_m=True)"
   ]
  },
  {
   "cell_type": "code",
   "execution_count": 41,
   "metadata": {},
   "outputs": [
    {
     "name": "stdout",
     "output_type": "stream",
     "text": [
      "slope: 0.88797, intercept: -16.34679, prefactor: 4.5000000000000004e-17 m^2/s, barrier: 0.17619 eV\n"
     ]
    }
   ],
   "source": [
    "parameter_cal(17000, 4.5E-13, prefactor_in_m=True)"
   ]
  },
  {
   "cell_type": "markdown",
   "metadata": {},
   "source": [
    "### VB\n",
    "\n",
    "|Temperature (K)|Diffusion coffecient ($cm^2/s$)|\n",
    "|----|----|\n",
    "|573|$6.6 \\times 10^{-15}$|"
   ]
  },
  {
   "cell_type": "code",
   "execution_count": 42,
   "metadata": {},
   "outputs": [
    {
     "name": "stdout",
     "output_type": "stream",
     "text": [
      "x: 1.7452006980802792, y: -18.18045606445813\n"
     ]
    }
   ],
   "source": [
    "data = [573, 6.6E-15]\n",
    "point_cal(data, prefactor_in_m=True)"
   ]
  },
  {
   "cell_type": "markdown",
   "metadata": {},
   "source": [
    "## [8] K. Une, I. Takagi, K. Sawada, H. Watanabe, K. Sakamoto, and M. Aomi, Journal of Nuclear Materials 420, 445 (2012).\n",
    "### GNF-Ziron\n",
    "|Temperature (K)|Diffusion coffecient ($m^2/s$)|\n",
    "|----|----|\n",
    "|573|$1.3 \\times 10^{-18}$|"
   ]
  },
  {
   "cell_type": "code",
   "execution_count": 43,
   "metadata": {},
   "outputs": [
    {
     "name": "stdout",
     "output_type": "stream",
     "text": [
      "x: 1.181823553743426, y: -21.886056647693163\n"
     ]
    }
   ],
   "source": [
    "data = [573, 1.3E-18]\n",
    "point_cal(data, Tem_in_Kelvin=True, prefactor_in_m=True)"
   ]
  },
  {
   "cell_type": "markdown",
   "metadata": {},
   "source": [
    "## [9] K. Une, I. Takagi, K. Sawada, S. Miyamura, and M. Aomi, Progress in Nuclear Energy 57, 93 (2012).\n",
    "### GNF-Ziron 1 M LiOH-water-corroded oxides\n",
    "$$D[cm^2/s] = 2.3 \\times 10^{-11} exp(-\\frac{25100J/mol}{RT})$$"
   ]
  },
  {
   "cell_type": "code",
   "execution_count": 44,
   "metadata": {},
   "outputs": [
    {
     "name": "stdout",
     "output_type": "stream",
     "text": [
      "slope: 1.31106, intercept: -14.63827, prefactor: 2.3000000000000003e-15 m^2/s, barrier: 0.26014 eV\n"
     ]
    }
   ],
   "source": [
    "parameter_cal(25100, 2.3E-11, prefactor_in_m=True)"
   ]
  },
  {
   "cell_type": "markdown",
   "metadata": {},
   "source": [
    "### VB 1 M LiOH-water-corroded oxides\n",
    "$$D[cm^2/s] = 1.4 \\times 10^{-10} exp(-\\frac{33100J/mol}{RT})$$"
   ]
  },
  {
   "cell_type": "code",
   "execution_count": 45,
   "metadata": {},
   "outputs": [
    {
     "name": "stdout",
     "output_type": "stream",
     "text": [
      "slope: 1.72893, intercept: -13.85387, prefactor: 1.4000000000000002e-14 m^2/s, barrier: 0.34306 eV\n"
     ]
    }
   ],
   "source": [
    "parameter_cal(33100, 1.4E-10, prefactor_in_m=True)"
   ]
  },
  {
   "cell_type": "markdown",
   "metadata": {},
   "source": [
    "### GNF-Ziron 0.1 M LiOH-water-corroded oxides\n",
    "$$D[cm^2/s] = 8.3 \\times 10^{-12} exp(-\\frac{26500J/mol}{RT})$$"
   ]
  },
  {
   "cell_type": "code",
   "execution_count": 46,
   "metadata": {},
   "outputs": [
    {
     "name": "stdout",
     "output_type": "stream",
     "text": [
      "slope: 1.38419, intercept: -15.08092, prefactor: 8.3e-16 m^2/s, barrier: 0.27465 eV\n"
     ]
    }
   ],
   "source": [
    "parameter_cal(26500, 8.3E-12, prefactor_in_m=True)"
   ]
  },
  {
   "cell_type": "markdown",
   "metadata": {},
   "source": [
    "## [10] M. Tupin, F. Martin, C. Bisor, R. Verlet, P. Bossis, J. Chene, F. Jomard, P. Berger, S. Pascal, and N. Nuns, Corrosion Science 116, 1 (2017).\n",
    "\n",
    "### Zircaloy-4 alloy\n",
    "|Temperature ($^{\\circ}C$)|Diffusion coffecient ($cm^2/s$)|\n",
    "|----|----|\n",
    "|200|$5.1 \\times 10^{-14}$|\n",
    "|300|$2.24 \\times 10^{-13}$|\n",
    "$$D[cm^2/s] = 2.5 \\times 10^{-10} exp(-\\frac{33430J/mol}{RT})$$"
   ]
  },
  {
   "cell_type": "code",
   "execution_count": 47,
   "metadata": {},
   "outputs": [
    {
     "name": "stdout",
     "output_type": "stream",
     "text": [
      "x: 2.113494663425975, y: -17.292429823902065\n",
      "x: 1.7447439588240425, y: -16.649751981665837\n"
     ]
    }
   ],
   "source": [
    "data_list = [[200, 5.1E-14], [300, 2.24E-13]]\n",
    "for data in data_list:\n",
    "    point_cal(data, Tem_in_Kelvin=True, prefactor_in_m=True)"
   ]
  },
  {
   "cell_type": "code",
   "execution_count": 48,
   "metadata": {},
   "outputs": [
    {
     "name": "stdout",
     "output_type": "stream",
     "text": [
      "slope: 1.74617, intercept: -13.60206, prefactor: 2.5000000000000004e-14 m^2/s, barrier: 0.34648 eV\n"
     ]
    }
   ],
   "source": [
    "parameter_cal(33430, 2.5E-10, prefactor_in_m=True)"
   ]
  },
  {
   "cell_type": "markdown",
   "metadata": {},
   "source": [
    "# Simulation"
   ]
  },
  {
   "cell_type": "markdown",
   "metadata": {},
   "source": [
    "## [1] J. Rabone and P. Van Uffelen, Journal of Nuclear Materials 459, 30 (2015).\n",
    "### proton\n",
    "|Temperature ($K$)|Diffusion coffecient ($m^2/s$)|\n",
    "|----|----|\n",
    "|1500|$4 \\times 10^{-9}$|"
   ]
  },
  {
   "cell_type": "code",
   "execution_count": 51,
   "metadata": {},
   "outputs": [
    {
     "name": "stdout",
     "output_type": "stream",
     "text": [
      "x: 0.5639680794067056, y: -12.397940008672037\n"
     ]
    }
   ],
   "source": [
    "data = [1500, 4E-9]\n",
    "point_cal(data, Tem_in_Kelvin=True, prefactor_in_m=True)"
   ]
  },
  {
   "cell_type": "markdown",
   "metadata": {},
   "source": [
    "## [2] O. Barbour, J. P. Crocombette, T. Schuler, and M. Tupin, Journal of Nuclear Materials 539, 152333 (2020).\n",
    "### hydride\n",
    "|Temperature ($^{\\circ}C$)|Orientation|Diffusion coffecient ($cm^2/s$)|\n",
    "|----|----|----|\n",
    "|285|[001]|$6 \\times 10^{-21}$|\n",
    "|285|[010]|$6.5 \\times 10^{-22}$|\n",
    "|285|[100]|$2.11 \\times 10^{-19}$|\n",
    "|285|[$10\\bar{3}$]|$4.11 \\times 10^{-20}$|"
   ]
  },
  {
   "cell_type": "code",
   "execution_count": 49,
   "metadata": {},
   "outputs": [
    {
     "name": "stdout",
     "output_type": "stream",
     "text": [
      "x: 1.7916330735465378, y: -24.221848749616356\n",
      "x: 1.7916330735465378, y: -25.187086643357144\n",
      "x: 1.7916330735465378, y: -22.67571754470231\n",
      "x: 1.7916330735465378, y: -23.38615817812393\n"
     ]
    }
   ],
   "source": [
    "data_list = [[285, 6E-21], [285, 6.5E-22], [285, 2.11E-19], [285, 4.11E-20]]\n",
    "for data in data_list:\n",
    "    point_cal(data, Tem_in_Kelvin=True, prefactor_in_m=True)"
   ]
  },
  {
   "cell_type": "markdown",
   "metadata": {},
   "source": [
    "### proton\n",
    "|Temperature ($^{\\circ}C$)|Orientation|Diffusion coffecient ($cm^2/s$)|\n",
    "|----|----|----|\n",
    "|285|[001]|$2.6 \\times 10^{-6}$|\n",
    "|285|[010]|$2.56 \\times 10^{-6}$|\n",
    "|285|[100]|$7.06 \\times 10^{-8}$|\n",
    "|285|[$10\\bar{3}$]|$2.38 \\times 10^{-6}$|"
   ]
  },
  {
   "cell_type": "code",
   "execution_count": 50,
   "metadata": {},
   "outputs": [
    {
     "name": "stdout",
     "output_type": "stream",
     "text": [
      "x: 1.7916330735465378, y: -9.585026652029182\n",
      "x: 1.7916330735465378, y: -9.59176003468815\n",
      "x: 1.7916330735465378, y: -11.151195298948196\n",
      "x: 1.7916330735465378, y: -9.623423042943488\n"
     ]
    }
   ],
   "source": [
    "data_list = [[285, 2.6E-6], [285, 2.56E-6], [285, 7.06E-8], [285, 2.38E-6]]\n",
    "for data in data_list:\n",
    "    point_cal(data, Tem_in_Kelvin=True, prefactor_in_m=True)"
   ]
  }
 ],
 "metadata": {
  "kernelspec": {
   "display_name": "doped",
   "language": "python",
   "name": "python3"
  },
  "language_info": {
   "codemirror_mode": {
    "name": "ipython",
    "version": 3
   },
   "file_extension": ".py",
   "mimetype": "text/x-python",
   "name": "python",
   "nbconvert_exporter": "python",
   "pygments_lexer": "ipython3",
   "version": "3.9.19"
  }
 },
 "nbformat": 4,
 "nbformat_minor": 2
}
