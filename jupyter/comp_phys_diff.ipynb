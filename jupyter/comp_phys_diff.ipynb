{
 "cells": [
  {
   "cell_type": "markdown",
   "metadata": {},
   "source": [
    "# 第二章 计算机上的微分\n",
    "\n",
    "可分为三类，分别是：\n",
    "- 解析微分 如Sympy和Mathematica\n",
    "- 数值微分：有限差分近似 （Finite Difference）\n",
    "- 自动微分：科学计算与人工智能的交叉 (Auto Differentiation)"
   ]
  },
  {
   "cell_type": "markdown",
   "metadata": {},
   "source": [
    "## 解析微分\n",
    "\n",
    "- Step1: 定义自变量符号\n",
    "- Step2: 定义解析函数的形式\n",
    "- Step3: 使用 sympy.diff 函数返回函数的微分结果"
   ]
  },
  {
   "cell_type": "code",
   "execution_count": 24,
   "metadata": {},
   "outputs": [
    {
     "data": {
      "text/latex": [
       "$\\displaystyle x e^{- x^{2}}$"
      ],
      "text/plain": [
       "x*exp(-x**2)"
      ]
     },
     "execution_count": 24,
     "metadata": {},
     "output_type": "execute_result"
    }
   ],
   "source": [
    "import sympy \n",
    "\n",
    "# Step1: define the variable\n",
    "x = sympy.symbols(\"x\")\n",
    "# Step2: define the function \n",
    "def f(x):\n",
    "    return x * sympy.exp(- x**2)\n",
    "f(x)"
   ]
  },
  {
   "cell_type": "code",
   "execution_count": 25,
   "metadata": {},
   "outputs": [
    {
     "data": {
      "text/latex": [
       "$\\displaystyle - 2 x^{2} e^{- x^{2}} + e^{- x^{2}}$"
      ],
      "text/plain": [
       "-2*x**2*exp(-x**2) + exp(-x**2)"
      ]
     },
     "execution_count": 25,
     "metadata": {},
     "output_type": "execute_result"
    }
   ],
   "source": [
    "# Step3: calc the differentiation\n",
    "sympy.diff(f(x), x)"
   ]
  },
  {
   "cell_type": "code",
   "execution_count": 26,
   "metadata": {},
   "outputs": [
    {
     "name": "stdout",
     "output_type": "stream",
     "text": [
      "- 2 x^{2} e^{- x^{2}} + e^{- x^{2}}\n"
     ]
    },
    {
     "data": {
      "text/latex": [
       "$\\displaystyle 1$"
      ],
      "text/plain": [
       "1"
      ]
     },
     "execution_count": 26,
     "metadata": {},
     "output_type": "execute_result"
    }
   ],
   "source": [
    "dfdx = sympy.diff(f(x), x)\n",
    "# Set the output type to LaTeX.\n",
    "sympy.print_latex(dfdx)\n",
    "# The subs can Temporarily replace the x to a number.\n",
    "dfdx.subs(x, 0.0)"
   ]
  },
  {
   "cell_type": "markdown",
   "metadata": {},
   "source": [
    "## 数值微分"
   ]
  },
  {
   "cell_type": "markdown",
   "metadata": {},
   "source": [
    "数值微分\n",
    "有限差分近似：${df \\over dx} = {\\rm lim}_{\\Delta x\\rightarrow 0} {f(x+ \\Delta x) - f(x) \\over \\Delta x }$"
   ]
  },
  {
   "cell_type": "code",
   "execution_count": 27,
   "metadata": {},
   "outputs": [
    {
     "data": {
      "text/latex": [
       "$\\displaystyle 0.999900004999833$"
      ],
      "text/plain": [
       "0.999900004999833"
      ]
     },
     "execution_count": 27,
     "metadata": {},
     "output_type": "execute_result"
    }
   ],
   "source": [
    "def finite_difference(func, x, dx=0.01):\n",
    "    assert(dx != 0)\n",
    "    return (func(x+dx) - func(x)) / dx\n",
    "\n",
    "finite_difference(f, 0.0)"
   ]
  },
  {
   "cell_type": "markdown",
   "metadata": {},
   "source": [
    "有限差分法的原理（泰勒展开）\n",
    "\n",
    "$f(x + \\Delta x) = f(x) + {df \\over dx} \\Delta x + {d^2 f \\over dx^2} {\\Delta x^2 \\over 2} + ...$\n",
    "\n",
    "移项得到一阶精度的前向有限差分近似，\n",
    "\n",
    "${df \\over dx}  = {f(x + \\Delta x) - f(x) \\over \\Delta x} + O( \\Delta x^2)$\n",
    "\n",
    "截断误正比于 $\\Delta x^2$, 所以 $\\Delta x$ 越小结果越精确。\n",
    "\n",
    "同理得到后向有限差分近似，\n",
    "\n",
    "$f(x - \\Delta x) = f(x) - {df \\over dx} \\Delta x + {d^2 f \\over dx^2} {\\Delta x^2 \\over 2} + ...$\n",
    "\n",
    "移项得到一阶精度的后向有限差分近似，\n",
    "\n",
    "${df \\over dx}  = {f(x) - f(x - \\Delta x) \\over \\Delta x} + O( \\Delta x^2)$\n",
    "\n",
    "前向与后向有限差分，有区别吗？\n",
    "\n",
    "答案是： Yes\n",
    "\n",
    "在偏微分方程的数值解中，有时候要构造“迎风法”，使得数值解稳定。举例：\n",
    "\n",
    "${\\partial f \\over \\partial t} + u {\\partial f \\over \\partial x} = 0$\n",
    "\n",
    "迎风法考虑信号不能超光速传播，根据对流速度 u 选择前向还是后向差分。\n",
    "\n",
    "- u>0, 选择后向差分\n",
    "- u<0, 选择前向差分\n",
    "\n",
    "中心差分格式（二阶精度）\n",
    "\n",
    "$f(x + \\Delta x) = f(x) + {df \\over dx} \\Delta x + {d^2 f \\over dx^2} {\\Delta x^2 \\over 2} + ...$\n",
    "\n",
    "$f(x - \\Delta x) = f(x) - {df \\over dx} \\Delta x + {d^2 f \\over dx^2} {\\Delta x^2 \\over 2} + ...$\n",
    "\n",
    "将上面两个泰勒展开公式相减，可以得到二阶精度的中心差分格式：\n",
    "\n",
    "${df \\over dx}  = {f(x + \\Delta x) - f(x - \\Delta x) \\over 2 \\Delta x} + O( \\Delta x^3)$\n",
    "\n",
    "二阶精度如果在边界处不可用，还是得考虑一阶精度。\n",
    "\n",
    "如果考虑四个泰勒展开公式，(其中 $h=\\Delta x$)：\n",
    "\n",
    "\n",
    "$f(x - 2 h) =  f(x) - 2 {df \\over dx} h + {d^2 f \\over dx^2} {4 h^2 \\over 2} - {d^3 f \\over dx^3} {8 h^3 \\over 6} + ... (1)$\n",
    "\n",
    "$f(x - h) = f(x) - {df \\over dx} h + {d^2 f \\over dx^2} {h^2 \\over 2} - {d^3 f \\over dx^3} { h^3 \\over 6} +... (2)$\n",
    "\n",
    "$f(x + h) = f(x) + {df \\over dx} h + {d^2 f \\over dx^2} {h^2 \\over 2} + {d^3 f \\over dx^3} { h^3 \\over 6} +... (3)$\n",
    "\n",
    "$f(x + 2 h) = f(x) + 2 {df \\over dx} h + {d^2 f \\over dx^2} {4 h \\over 2} + {d^3 f \\over dx^3} {8 h^3 \\over 6} + ... (4)$\n",
    "\n",
    "利用$8\\times((3)-(2))-((4)-(1))$，可以得到三阶精度的差分公式：\n",
    "\n",
    "${df \\over dx}  = {8(f(x + \\Delta x) - f(x - \\Delta x)) - f(x + 2 \\Delta x) + f(x - 2 \\Delta x) \\over 12 \\Delta x} + O( \\Delta x^4)$"
   ]
  },
  {
   "cell_type": "code",
   "execution_count": 28,
   "metadata": {},
   "outputs": [
    {
     "data": {
      "application/vnd.jupyter.widget-view+json": {
       "model_id": "5df382b6c76e4d5b80b777f7d8cd4c2d",
       "version_major": 2,
       "version_minor": 0
      },
      "text/plain": [
       "interactive(children=(FloatSlider(value=0.5005, description='dx', max=1.0, min=0.001), Output()), _dom_classes…"
      ]
     },
     "metadata": {},
     "output_type": "display_data"
    },
    {
     "data": {
      "text/plain": [
       "<function __main__.comparison(dx)>"
      ]
     },
     "execution_count": 28,
     "metadata": {},
     "output_type": "execute_result"
    }
   ],
   "source": [
    "# 中心差分法\n",
    "def central_difference(func, x, dx=0.01):\n",
    "    \"\"\"\n",
    "    o(x^3)\n",
    "    \"\"\"\n",
    "    assert(dx != 0)\n",
    "    return (func(x+dx) - func(x-dx)) / 2 / dx\n",
    "\n",
    "def three_order_difference(func, x, dx=0.01):\n",
    "    \"\"\"\n",
    "    o(x^4)\n",
    "    \"\"\"\n",
    "    assert(dx !=0)\n",
    "    return (8*(func(x+dx) - func(x-dx))-(func(x+2*dx)-func(x-2*dx))) / 12 / dx\n",
    "\n",
    "import matplotlib.pyplot as plt\n",
    "import numpy as np\n",
    "from ipywidgets import interact\n",
    "\n",
    "# 这里作图看一下有限差分方法的误差\n",
    "def comparison(dx):\n",
    "    xcoord = np.linspace(0, np.pi, 20)\n",
    "    # 解析微分的结果\n",
    "    dfdx_ana = [dfdx.subs(x, xi) for xi in xcoord]\n",
    "    # 有限差分的结果\n",
    "    dfdx_num = [finite_difference(f, xi, dx) for xi in xcoord]\n",
    "    # 中心差分的结果\n",
    "    dfdx_cen_num = [central_difference(f, xi, dx) for xi in xcoord]\n",
    "    # 三阶差分的结果\n",
    "    dfdx_three_num = [three_order_difference(f, xi, dx) for xi in xcoord]\n",
    "    \n",
    "    plt.plot(xcoord, dfdx_num, 'ko--', label=\"finite difference\")\n",
    "    plt.plot(xcoord, dfdx_cen_num, 'b*--', label=\"central difference\")\n",
    "    plt.plot(xcoord, dfdx_three_num, 'gx--', label=\"three_order_difference\")\n",
    "    plt.plot(xcoord, dfdx_ana, 'r-', label=\"sympy: analytic\")\n",
    "    \n",
    "    plt.legend(loc='best')\n",
    "    plt.xlabel(r\"$x$\")\n",
    "    plt.ylabel(r\"$df/dx$\")\n",
    "    \n",
    "# dx小的时候，有限差分比较准确\n",
    "# 移动滑钮看到 dx 大的时候，有限差分误差较大\n",
    "# 同时精度越高，收敛地越快。\n",
    "interact(comparison, dx=(0.001, 1))"
   ]
  },
  {
   "cell_type": "markdown",
   "metadata": {},
   "source": [
    "同理，我们也可以得到二阶微分的有限差分公式：\n",
    "只需要(2)+(3)再移项就可以得到：\n",
    "\n",
    "$${df \\over dx}  = {f(x + \\Delta x) - f(x - \\Delta x) \\over (\\Delta x)^2} + O( \\Delta x^3)$$"
   ]
  },
  {
   "cell_type": "code",
   "execution_count": 29,
   "metadata": {},
   "outputs": [
    {
     "data": {
      "application/vnd.jupyter.widget-view+json": {
       "model_id": "e3efc4bf4c5245be92f5cae52dcf5694",
       "version_major": 2,
       "version_minor": 0
      },
      "text/plain": [
       "interactive(children=(FloatSlider(value=0.5005, description='dx', max=1.0, min=0.001), Output()), _dom_classes…"
      ]
     },
     "metadata": {},
     "output_type": "display_data"
    },
    {
     "data": {
      "text/plain": [
       "<function __main__.comparison(dx)>"
      ]
     },
     "execution_count": 29,
     "metadata": {},
     "output_type": "execute_result"
    }
   ],
   "source": [
    "def two_order_centeral_difference(func, x, dx=0.01):\n",
    "    \"\"\"\n",
    "    o(x^2)\n",
    "    \"\"\"\n",
    "    assert(dx !=0)\n",
    "    return (func(x+dx) + func(x-dx)-2*func(x)) / dx**2\n",
    "\n",
    "df2dx2 = sympy.diff(f(x), x, 2)\n",
    "\n",
    "import matplotlib.pyplot as plt\n",
    "import numpy as np\n",
    "from ipywidgets import interact\n",
    "\n",
    "# 这里作图看一下有限差分方法的误差\n",
    "def comparison(dx):\n",
    "    xcoord = np.linspace(0, np.pi, 20)\n",
    "    # 解析微分的结果\n",
    "    df2dx2_ana = [df2dx2.subs(x, xi) for xi in xcoord]\n",
    "    # 有限差分的结果\n",
    "    df2dx2_num = [two_order_centeral_difference(f, xi, dx) for xi in xcoord]\n",
    "    \n",
    "    plt.plot(xcoord, df2dx2_num, 'ko--', label=\"finite difference\")\n",
    "    plt.plot(xcoord, df2dx2_ana, 'r-', label=\"sympy: analytic\")\n",
    "    \n",
    "    plt.legend(loc='best')\n",
    "    plt.xlabel(r\"$x$\")\n",
    "    plt.ylabel(r\"$df/dx$\")\n",
    "    \n",
    "# dx 小的时候，有限差分比较准确\n",
    "# 移动滑钮看到 dx 大的时候，有限差分误差较大\n",
    "interact(comparison, dx=(0.001, 1))"
   ]
  },
  {
   "cell_type": "code",
   "execution_count": 30,
   "metadata": {},
   "outputs": [
    {
     "data": {
      "text/plain": [
       "array([5.00000000e-01, 2.16194004e-02, 1.39716990e-04, 4.13701855e-08,\n",
       "       5.40219515e-08, 3.46406653e-09, 1.24941224e-07, 5.80184932e-06,\n",
       "       2.69014627e-04, 1.19115183e-02])"
      ]
     },
     "execution_count": 30,
     "metadata": {},
     "output_type": "execute_result"
    }
   ],
   "source": [
    "def check_error(dx=0.1, x0=1.0):\n",
    "    ana = 0.5\n",
    "    num = (np.sqrt(x0 + dx) - np.sqrt(x0))/dx\n",
    "    return np.abs(ana - num)\n",
    "dx = np.logspace(-16, -1, 10)\n",
    "err = check_error(dx)\n",
    "err"
   ]
  },
  {
   "cell_type": "code",
   "execution_count": 31,
   "metadata": {},
   "outputs": [
    {
     "data": {
      "text/plain": [
       "Text(0, 0.5, 'error')"
      ]
     },
     "execution_count": 31,
     "metadata": {},
     "output_type": "execute_result"
    },
    {
     "data": {
      "image/png": "[encoded data removed]",
      "text/plain": [
       "<Figure size 640x480 with 1 Axes>"
      ]
     },
     "metadata": {},
     "output_type": "display_data"
    }
   ],
   "source": [
    "plt.semilogx(dx, err, 'ro-')\n",
    "plt.xlabel(\"dx\")\n",
    "plt.ylabel(\"error\")"
   ]
  },
  {
   "cell_type": "markdown",
   "metadata": {},
   "source": [
    "可以看到，在某些函数中，并不是dx越小，有限差分的误差越小。"
   ]
  },
  {
   "cell_type": "markdown",
   "metadata": {},
   "source": [
    "**列表函数**\n",
    "\n",
    "对于列表函数，可以先使用插值算法得到插值多项式，然后求导。"
   ]
  },
  {
   "cell_type": "markdown",
   "metadata": {},
   "source": [
    "## 自动微分（Automatic differentiation）\n",
    "\n",
    "- 数值微分的缺点：会引入数值误差\n",
    "- 解析微分的缺点：在函数复杂的时候，根据链式规则，展开项很多，计算速度慢\n",
    "- 自动微分的优点：保留了数值微分速度快和解析微分结果精确。\n",
    "\n",
    "自动微分在人工智能时代开始流行，因为 Tensorflow, pytorch 等深度学习库封装了自动微分功能。\n",
    "\n",
    "存在两种模式：\n",
    "- Forward Mode\n",
    "- Backward Mode\n",
    "\n",
    "Forward Mode:\n",
    "\n",
    "引入对偶数（Dual number）的概念。\n",
    "\n",
    "对于对偶数 $\\varepsilon$，有 $\\varepsilon^2=0$ 和 $\\varepsilon \\neq 0$\n",
    "\n",
    "对于某一个函数的麦克劳林展开：\n",
    "\n",
    "$f(x)=a_0+a_1x+a_2x^2+\\cdots$\n",
    "\n",
    "将x替换为 $x+\\dot{x}\\varepsilon$，并代入，有：\n",
    "\n",
    "$f(x)=a_0+a_1(x+\\dot{x}\\varepsilon)+a_2(x^2+2x\\dot{x}\\varepsilon+(\\dot{x}\\varepsilon)^2)+\\cdots$\n",
    "\n",
    "根据先前设置的对偶数计算法则，我们有：\n",
    "\n",
    "$f(x)=a_0+a_1x+a_2x^2+\\cdots+a_1\\dot{x}\\varepsilon+a_2x\\dot{x}\\varepsilon+\\cdots+a_nx^n\\dot{x}\\varepsilon$\n",
    "\n",
    "对于后半部分，实际上可以提取出 $\\dot{x} \\varepsilon (a_1+a_2x+\\cdots)$，括号内的部分是 $f^{\\prime}(x)$\n",
    "\n",
    "那么，我们可以得到 $f(x+\\dot{x} \\varepsilon)=f(x)+\\dot{x} \\varepsilon f^{\\prime}(x)$\n",
    "\n",
    "即 $\\frac{df(x)}{dx}|_{x=\\nu} = \\varepsilon \\ \\mathrm{cofficient} (\\mathrm{dual-version} (f) (\\nu+1\\varepsilon))$ \n",
    "\n",
    "事实上，对偶数可以被看做是一种无穷小，所以 $\\varepsilon \\neq 0$，而 $\\varepsilon^2=0$ 是高阶无穷小，所以等于0。"
   ]
  },
  {
   "cell_type": "code",
   "execution_count": 32,
   "metadata": {},
   "outputs": [
    {
     "data": {
      "text/plain": [
       "np.float64(0.36787944117144233)"
      ]
     },
     "execution_count": 32,
     "metadata": {},
     "output_type": "execute_result"
    }
   ],
   "source": [
    "# 简单举例  f(x) = x e^{-x^2}\n",
    "\n",
    "def f(x):\n",
    "    w1 = x\n",
    "    w2 = w1 * w1\n",
    "    w3 = np.exp(- w2)\n",
    "    w4 = w1 * w3\n",
    "    return w4\n",
    "\n",
    "f(1.0)"
   ]
  },
  {
   "cell_type": "code",
   "execution_count": 33,
   "metadata": {},
   "outputs": [],
   "source": [
    "## 自动微分版本\n",
    "\n",
    "def f_ad(x):\n",
    "    w1 = x\n",
    "    dw1 = 1\n",
    "    \n",
    "    w2 = w1 * w1\n",
    "    dw2 = 2 * w1 * dw1\n",
    "    \n",
    "    w3 = np.exp(-w2)\n",
    "    dw3 = - np.exp(-w2) * dw2\n",
    "    \n",
    "    w4 = w1 * w3\n",
    "    dw4 = w1 * dw3 + dw1 * w3\n",
    "    \n",
    "    return w4, dw4"
   ]
  },
  {
   "cell_type": "code",
   "execution_count": 34,
   "metadata": {},
   "outputs": [
    {
     "data": {
      "text/plain": [
       "(np.float64(0.36787944117144233), np.float64(-0.36787944117144233))"
      ]
     },
     "execution_count": 34,
     "metadata": {},
     "output_type": "execute_result"
    }
   ],
   "source": [
    "f_ad(1.0)"
   ]
  },
  {
   "cell_type": "code",
   "execution_count": 35,
   "metadata": {},
   "outputs": [
    {
     "data": {
      "text/latex": [
       "$\\displaystyle -0.367879441171442$"
      ],
      "text/plain": [
       "-0.367879441171442"
      ]
     },
     "execution_count": 35,
     "metadata": {},
     "output_type": "execute_result"
    }
   ],
   "source": [
    "dfdx.subs(x, 1.)\n",
    "\n",
    "# dfdx 是前面用 sympy 计算出的解析微分\n",
    "# 两者在小数点后 15 位都保持一致"
   ]
  },
  {
   "cell_type": "markdown",
   "metadata": {},
   "source": [
    "运算符重载的方法实现自动微分编程\n",
    "\n",
    "举例：计算机如何做复数的加减乘除\n",
    "\n",
    "$z_1=x_1+iy_1 \\\\\n",
    "z_2=x_2+iy_2$\n",
    "\n",
    "底层语言只实现了实数的加减乘除，但是使用复数库，可以直接计算\n",
    "\n",
    "$z_1+z_2 \\\\\n",
    " z_1−z_2 \\\\\n",
    " z_1∗z_2 \\\\\n",
    " z_1/z_2$\n",
    "\n",
    "复数库对 +， -， *， / 符号做了重载。而在对偶数运算中，我们同样可以仿效复数的方式对常用的运算符号和初始函数进行进行重载:\n",
    "\n",
    "$sin(x + \\dot{x} \\varepsilon) = sin(x) + cos(x) \\dot{x}\\varepsilon \\\\\n",
    "cos(x + \\dot{x} \\varepsilon) = cos(x) - sin(x)  \\dot{x}\\varepsilon \\\\\n",
    "e^{x + \\dot{x} \\varepsilon} = e^x + e^x \\dot{x} \\varepsilon \\\\\n",
    "\\log(x + \\dot{x} \\varepsilon) = \\log(x) + { \\dot{x}\\over x } \\varepsilon \\quad \\; x \\neq 0 \\\\\n",
    "\\sqrt{x + \\dot{x} \\varepsilon} = \\sqrt{x} + { \\dot{x}\\over 2 \\sqrt{x}}\\varepsilon \\quad \\; x \\neq 0 \\\\\n",
    "(x + \\dot{x} \\varepsilon)^2 = x^2 + 2x \\dot{x} \\varepsilon \\\\$"
   ]
  },
  {
   "cell_type": "code",
   "execution_count": 36,
   "metadata": {},
   "outputs": [],
   "source": [
    "import math\n",
    "class DNumber:\n",
    "    '''自动微分中的对偶数类，对 +, -, *, /, 幂次符号做了重载'''\n",
    "    def __init__(self, x, dx):\n",
    "        self.val = x\n",
    "        self.dval = dx\n",
    "    \n",
    "    def __repr__(self):\n",
    "        '''使用 print(DNumber(1, 2)) 时输出:1 + 2 d'''\n",
    "        # 魔法方法（Magic methods），有时也被称为特殊方法，\n",
    "        # 是一种具有预定义名称的方法，其特征是在开头和结尾处有双下划线，例如，__init__。\n",
    "        # 它们之所以是 \"魔法\"，是因为这些方法是间接调用的，\n",
    "        # 你不需要直接调用它们，一切都在背后完成。可以通过这些方法重载常见操作符。\n",
    "        # 重载print\n",
    "        return f'{self.val} + {self.dval} d'\n",
    "        \n",
    "    def __add__(self, other):\n",
    "        '''overload a + b'''\n",
    "        # 重载加法运算符，\n",
    "        # 先判断other类型，如果是浮点数或者是整数就直接和已经有的对偶数的第一部分相加。\n",
    "        if isinstance(other, float) or isinstance(other, int):\n",
    "            val = self.val + other\n",
    "            dval = self.dval\n",
    "        # 如果是对偶数则直接对对应部分相加。\n",
    "        if isinstance(other, DNumber):\n",
    "            val = self.val+other.val\n",
    "            dval = self.dval + other.dval\n",
    "            \n",
    "        return DNumber(val, dval)\n",
    "    \n",
    "    def __iadd__(self, other):\n",
    "        '''overload a += b'''\n",
    "        # 重载i=i+a (i+=a)运算符，\n",
    "        # 只有对偶数才能和对偶数实现迭代加法。\n",
    "        self.val = self.val + other.val\n",
    "        self.dval = self.dval + other.dval\n",
    "        return self\n",
    "    \n",
    "    def __mul__(self, other):\n",
    "        ''' overload other * x  or other_const * x\n",
    "        (other + d_other d)*(x + dx d) = other*x + (d_other x + other dx) d'''\n",
    "        # 按照对偶数相乘的运算法则对正常的左乘（左操作数调用）进行重构。\n",
    "        # 同样需要先判断other类型。\n",
    "        if isinstance(other, float) or isinstance(other, int):\n",
    "            val = other * self.val\n",
    "            dval = other * self.dval\n",
    "        \n",
    "        if isinstance(other, DNumber):\n",
    "            val = self.val * other.val\n",
    "            dval = self.val * other.dval + other.val * self.dval\n",
    "            \n",
    "        return DNumber(val, dval)\n",
    "    \n",
    "    def __rmul__(self, other):\n",
    "        ''' overload x * other or x * other_const'''\n",
    "        # 右乘（右操作数调用）\n",
    "        # 如果输入为3*DNumber(1,2)，左边不是DNumber类，必须重载右乘才能进行操作。\n",
    "        # 所以其中3是self，而DNnumber(1,2)为other。\n",
    "        return self.__mul__(other)\n",
    "    \n",
    "    def __truediv__(self, other):\n",
    "        '''overload a / b'''\n",
    "        # 重载除法运算符，\n",
    "        # 先判断other类型，如果是浮点数或者是整数，直接和实数部分相除。\n",
    "        if isinstance(other, float) or isinstance(other, int):\n",
    "            val = self.val / other\n",
    "            dval = self.dval / other\n",
    "            return DNumber(val, dval)\n",
    "        elif isinstance(other, DNumber):\n",
    "            # (x + dx d)/(y + dy d) = x/y + ((dx y - x dy) / y²) d\n",
    "            val = self.val / other.val\n",
    "            dval = (-self.val*other.dval+self.dval*other.val) / (other.val**2)\n",
    "            return DNumber(val, dval)\n",
    "        else:\n",
    "            return NotImplemented\n",
    "        \n",
    "    def __rtruediv__(self, other):\n",
    "        # 重载常数除以对偶数。\n",
    "        if isinstance(other, (float, int)):\n",
    "            val = other / self.val\n",
    "            dval = -other*self.dval / (self.val**2) \n",
    "            return DNumber(val, dval)\n",
    "        else:\n",
    "            return NotImplemented\n",
    "    \n",
    "    def __pow__(self, n):\n",
    "        ''' overload power'''\n",
    "        if isinstance(n, float) or isinstance(n, int):\n",
    "            val = self.val**n\n",
    "            dval = n * self.val**(n-1) * self.dval\n",
    "        # (x1+y1d)**(x2+y2d)\n",
    "        elif isinstance(n, DNumber) :\n",
    "            raise(Exception(\"Pow(DNumber, DNumber) is not implemented yet\"))\n",
    "        return DNumber(val, dval)"
   ]
  },
  {
   "cell_type": "code",
   "execution_count": 37,
   "metadata": {},
   "outputs": [
    {
     "data": {
      "text/plain": [
       "0.30000000000000004 + 1 d"
      ]
     },
     "execution_count": 37,
     "metadata": {},
     "output_type": "execute_result"
    }
   ],
   "source": [
    "s = DNumber(0.1, 1)\n",
    "s + DNumber(0.2, 0)"
   ]
  },
  {
   "cell_type": "code",
   "execution_count": 38,
   "metadata": {},
   "outputs": [],
   "source": [
    "s += DNumber(0.2, 0)"
   ]
  },
  {
   "cell_type": "code",
   "execution_count": 39,
   "metadata": {},
   "outputs": [
    {
     "data": {
      "text/plain": [
       "0.30000000000000004 + 1 d"
      ]
     },
     "execution_count": 39,
     "metadata": {},
     "output_type": "execute_result"
    }
   ],
   "source": [
    "s"
   ]
  },
  {
   "cell_type": "code",
   "execution_count": 40,
   "metadata": {},
   "outputs": [
    {
     "data": {
      "text/plain": [
       "0.010000000000000002 + 0.2 d"
      ]
     },
     "execution_count": 40,
     "metadata": {},
     "output_type": "execute_result"
    }
   ],
   "source": [
    "x = DNumber(0.1, 1)\n",
    "x * x"
   ]
  },
  {
   "cell_type": "code",
   "execution_count": 41,
   "metadata": {},
   "outputs": [
    {
     "data": {
      "text/plain": [
       "0.0010000000000000002 + 0.030000000000000006 d"
      ]
     },
     "execution_count": 41,
     "metadata": {},
     "output_type": "execute_result"
    }
   ],
   "source": [
    "x**3"
   ]
  },
  {
   "cell_type": "code",
   "execution_count": 42,
   "metadata": {},
   "outputs": [
    {
     "data": {
      "text/plain": [
       "0.6666666666666667 + 0.0 d"
      ]
     },
     "execution_count": 42,
     "metadata": {},
     "output_type": "execute_result"
    }
   ],
   "source": [
    "x = DNumber(0.2, 0.2)\n",
    "y = DNumber(0.3, 0.3)\n",
    "x / y"
   ]
  },
  {
   "cell_type": "code",
   "execution_count": 43,
   "metadata": {},
   "outputs": [
    {
     "data": {
      "text/plain": [
       "10.0 + -9.999999999999998 d"
      ]
     },
     "execution_count": 43,
     "metadata": {},
     "output_type": "execute_result"
    }
   ],
   "source": [
    "x = DNumber(0.2, 0.2)\n",
    "2 / x"
   ]
  },
  {
   "cell_type": "markdown",
   "metadata": {},
   "source": [
    "多个变量的自动微分\n",
    "\n",
    "上面例子中f(x)是x的单变量函数，$\\dot{x}=1$\n",
    "\n",
    "如果是多变量函数f(x, y), 要求对x求微分，则应取\n",
    "\n",
    "$\\dot{x}=1, \\dot{y}=0$\n",
    "\n",
    "举例说明：\n",
    "\n",
    "$f(x, y)= 3 x^2  y + x$\n",
    "\n",
    "${\\partial f \\over \\partial x} = 6 x y + 1$\n",
    "\n",
    "在 $(x, y)=(1, 1)$ 时，$f(x, y)=4.0$，$df/dx = 7.0$"
   ]
  },
  {
   "cell_type": "code",
   "execution_count": 44,
   "metadata": {},
   "outputs": [],
   "source": [
    "def f2d(x, y):\n",
    "    '''\n",
    "    Args: \n",
    "    x: DNumber\n",
    "    y: DNumber\n",
    "    return: f(x, y) = 3*x**2*y + x \n",
    "    and partial f / partial x '''\n",
    "    return 3 * x**2 * y + x"
   ]
  },
  {
   "cell_type": "code",
   "execution_count": 45,
   "metadata": {},
   "outputs": [
    {
     "name": "stdout",
     "output_type": "stream",
     "text": [
      "x = 1.0 + 1.0 d\n",
      "y = 1.0 + 0.0 d\n",
      "3x^2 y + x =  4.0 + 7.0 d\n"
     ]
    }
   ],
   "source": [
    "# 求 (x,y)=(1,1) 时 f(x, y) 与 df/dx\n",
    "x = DNumber(1.0, 1.0)\n",
    "y = DNumber(1.0, 0.0)\n",
    "print(\"x =\", x)\n",
    "print(\"y =\", y)\n",
    "print(\"3x^2 y + x = \", f2d(x, y))"
   ]
  }
 ],
 "metadata": {
  "kernelspec": {
   "display_name": "kwant",
   "language": "python",
   "name": "python3"
  },
  "language_info": {
   "codemirror_mode": {
    "name": "ipython",
    "version": 3
   },
   "file_extension": ".py",
   "mimetype": "text/x-python",
   "name": "python",
   "nbconvert_exporter": "python",
   "pygments_lexer": "ipython3",
   "version": "3.12.2"
  }
 },
 "nbformat": 4,
 "nbformat_minor": 2
}
