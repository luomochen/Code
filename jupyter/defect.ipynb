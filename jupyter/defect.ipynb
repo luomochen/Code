{
 "cells": [
  {
   "cell_type": "code",
   "execution_count": 10,
   "metadata": {},
   "outputs": [
    {
     "name": "stdout",
     "output_type": "stream",
     "text": [
      "chemical_potential_O_poor: -10.13836 eV\n",
      "chemical_potential_O_rich: -4.81842 eV\n"
     ]
    }
   ],
   "source": [
    "import re\n",
    "import math\n",
    "import numpy as np\n",
    "from doped import analysis\n",
    "from matplotlib import pyplot as plt\n",
    "\n",
    "def charge_correction(filepath, defect_directory, stastic_dielec):\n",
    "    defect_entry = analysis.defect_entry_from_paths(defect_path=filepath+defect_directory, \n",
    "                                                    bulk_path=filepath+\"pft\",\n",
    "                                                    dielectric=stastic_dielec)\n",
    "    print(f\"Charge: {defect_entry.charge_state} at site: {defect_entry.defect_supercell_site.frac_coords}\")\n",
    "    correction, error = defect_entry.get_kumagai_correction(return_correction_error=True)\n",
    "    print(f\"error range: {error}\")\n",
    "    correction = defect_entry.corrections['kumagai_charge_correction']\n",
    "    return correction, error\n",
    "\n",
    "# Data\n",
    "filepath = \"/mnt/d/Workspace/Data/ZrO2/defect/P21c/0GPa/VO/\"\n",
    "BAND_GAP = 5.3320\n",
    "U_pure_Zr = -17.01668172 / 2\n",
    "U_pure_O = -28.91053694 / 6\n",
    "U_pft = -115.14026212\n",
    "high_freq_dielec = np.array([[5.328996, 0.000000, 0.154152],\n",
    "                            [0.000000, 5.362658, 0.000000],\n",
    "                            [0.154152, 0.000000, 5.005340]])\n",
    "ionic_dielec = np.array([[19.107809, 0.000000, 1.357205],\n",
    "                        [0.000000, 17.240765, -0.000000],\n",
    "                        [1.357205, -0.000000, 13.257194]])\n",
    "stastic_dielec = high_freq_dielec + ionic_dielec\n",
    "chem_pot_O_poor = (U_pft / 4 - U_pure_Zr) / 2\n",
    "chem_pot_O_rich = U_pure_O\n",
    "print(f\"chemical_potential_O_poor: {round(chem_pot_O_poor, 5)} eV\\nchemical_potential_O_rich: {round(chem_pot_O_rich, 5)} eV\")"
   ]
  },
  {
   "cell_type": "markdown",
   "metadata": {},
   "source": [
    "pbe结果"
   ]
  },
  {
   "cell_type": "code",
   "execution_count": 11,
   "metadata": {},
   "outputs": [
    {
     "name": "stdout",
     "output_type": "stream",
     "text": [
      "O_poor: y = 0.92046\n",
      "O_rich: y = 6.2404\n"
     ]
    }
   ],
   "source": [
    "U_VO_1 = -910.07163187\n",
    "U_sc_pft = -921.13045813\n",
    "intercept_O_poor = U_VO_1 - U_sc_pft + chem_pot_O_poor \n",
    "intercept_O_rich = U_VO_1 - U_sc_pft + chem_pot_O_rich\n",
    "print(f\"O_poor: y = {round(intercept_O_poor, 5)}\\nO_rich: y = {round(intercept_O_rich, 5)}\")"
   ]
  },
  {
   "cell_type": "code",
   "execution_count": 12,
   "metadata": {},
   "outputs": [
    {
     "name": "stdout",
     "output_type": "stream",
     "text": [
      "O_poor: y = 0.80214\n",
      "O_rich: y = 6.12208\n"
     ]
    }
   ],
   "source": [
    "U_VO_2 = -910.18995568\n",
    "U_sc_pft = -921.13045813\n",
    "intercept_O_poor = U_VO_2 - U_sc_pft + chem_pot_O_poor\n",
    "intercept_O_rich = U_VO_2 - U_sc_pft + chem_pot_O_rich\n",
    "print(f\"O_poor: y = {round(intercept_O_poor, 5)}\\nO_rich: y = {round(intercept_O_rich, 5)}\")"
   ]
  },
  {
   "cell_type": "code",
   "execution_count": 16,
   "metadata": {},
   "outputs": [
    {
     "name": "stdout",
     "output_type": "stream",
     "text": [
      "Charge: 1 at site: [0.53278853 0.58633163 0.42458197]\n",
      "Calculated Kumagai (eFNV) correction is 0.027 eV\n",
      "CorrectionResult(correction_energy=0.026884260715653405, metadata={'pydefect_ExtendedFnvCorrection': ExtendedFnvCorrection(charge=1, point_charge_correction=0.08972587846896764, defect_region_radius=5.300433996135139, sites=[PotentialSite(specie='Zr', distance=6.679907359555026, potential=0.01999999999999602, pc_potential=-0.04113234040382363), PotentialSite(specie='Zr', distance=5.931018779110941, potential=0.07089999999999463, pc_potential=-0.03533185338264892), PotentialSite(specie='Zr', distance=4.937250655486217, potential=0.03309999999999036, pc_potential=None), PotentialSite(specie='Zr', distance=3.840277981361414, potential=0.05939999999999657, pc_potential=None), PotentialSite(specie='Zr', distance=6.631043177931836, potential=0.01629999999998688, pc_potential=-0.03319758101075719), PotentialSite(specie='Zr', distance=5.022531557495785, potential=0.02529999999998722, pc_potential=None), PotentialSite(specie='Zr', distance=4.884115663017039, potential=0.04939999999999145, pc_potential=None), PotentialSite(specie='Zr', distance=2.245396527966273, potential=-0.0818000000000012, pc_potential=None), PotentialSite(specie='Zr', distance=2.1868562771609343, potential=0.0075999999999964984, pc_potential=None), PotentialSite(specie='Zr', distance=3.6681857068659265, potential=0.06569999999999254, pc_potential=None), PotentialSite(specie='Zr', distance=4.463897972303653, potential=0.04999999999999716, pc_potential=None), PotentialSite(specie='Zr', distance=5.414302185517292, potential=0.02759999999999252, pc_potential=-0.016996832929759762), PotentialSite(specie='Zr', distance=5.738126745637006, potential=0.028499999999993975, pc_potential=-0.031601499934661305), PotentialSite(specie='Zr', distance=5.740010646579228, potential=0.011699999999990496, pc_potential=-0.03534564483849536), PotentialSite(specie='Zr', distance=6.968582658321359, potential=0.0543999999999869, pc_potential=-0.04492420977737236), PotentialSite(specie='Zr', distance=6.9621551995124475, potential=0.017099999999999227, pc_potential=-0.04728402582778778), PotentialSite(specie='Zr', distance=4.614072001287118, potential=0.047100000000000364, pc_potential=None), PotentialSite(specie='Zr', distance=5.927790626409675, potential=0.02409999999999002, pc_potential=-0.03425275475498775), PotentialSite(specie='Zr', distance=3.7383789322621346, potential=0.0799999999999983, pc_potential=None), PotentialSite(specie='Zr', distance=5.310071347799022, potential=0.03829999999999245, pc_potential=-0.02538528804294888), PotentialSite(specie='Zr', distance=4.575604443848584, potential=0.11579999999999302, pc_potential=None), PotentialSite(specie='Zr', distance=5.062222184150033, potential=0.030499999999989313, pc_potential=None), PotentialSite(specie='Zr', distance=3.7242432013744677, potential=0.03819999999998913, pc_potential=None), PotentialSite(specie='Zr', distance=4.281547359382828, potential=0.13249999999999318, pc_potential=None), PotentialSite(specie='Zr', distance=5.540204819718635, potential=0.01079999999998904, pc_potential=-0.018496063317591932), PotentialSite(specie='Zr', distance=4.009711879412556, potential=0.06080000000000041, pc_potential=None), PotentialSite(specie='Zr', distance=4.313617862660002, potential=0.046599999999997976, pc_potential=None), PotentialSite(specie='Zr', distance=2.1800688981950995, potential=0.14569999999999084, pc_potential=None), PotentialSite(specie='Zr', distance=7.65417525495091, potential=0.0034999999999882903, pc_potential=-0.047362942997917046), PotentialSite(specie='Zr', distance=5.921845072537904, potential=0.03659999999999286, pc_potential=-0.0396312778334854), PotentialSite(specie='Zr', distance=6.844086649845019, potential=0.04199999999998738, pc_potential=-0.03890013494817562), PotentialSite(specie='Zr', distance=4.810653758906029, potential=0.05709999999999127, pc_potential=None), PotentialSite(specie='O', distance=7.023056996915674, potential=0.03130000000000166, pc_potential=-0.03833010754778448), PotentialSite(specie='O', distance=5.183489414038494, potential=0.05580000000000496, pc_potential=None), PotentialSite(specie='O', distance=5.476726155127801, potential=0.0636000000000081, pc_potential=-0.017237285708385945), PotentialSite(specie='O', distance=2.6586874549681014, potential=0.14170000000000016, pc_potential=None), PotentialSite(specie='O', distance=7.014326114148058, potential=0.03719999999999857, pc_potential=-0.03832491783773346), PotentialSite(specie='O', distance=5.16026957546152, potential=0.04590000000000316, pc_potential=None), PotentialSite(specie='O', distance=5.461659944092763, potential=0.05270000000000152, pc_potential=-0.017116493739674016), PotentialSite(specie='O', distance=2.7591294354008804, potential=0.07059999999999889, pc_potential=None), PotentialSite(specie='O', distance=2.794721004641526, potential=0.0835000000000008, pc_potential=None), PotentialSite(specie='O', distance=5.471101186234065, potential=0.05320000000000391, pc_potential=-0.013494100833609414), PotentialSite(specie='O', distance=2.781271064231397, potential=0.10099999999999909, pc_potential=None), PotentialSite(specie='O', distance=5.475075514460764, potential=0.036200000000008004, pc_potential=-0.013606750724859921), PotentialSite(specie='O', distance=5.126768369950065, potential=0.043100000000009686, pc_potential=None), PotentialSite(specie='O', distance=6.271135310422916, potential=0.0008000000000123464, pc_potential=-0.04021714558251818), PotentialSite(specie='O', distance=5.174617249261196, potential=0.023499999999998522, pc_potential=None), PotentialSite(specie='O', distance=6.255957607496428, potential=0.041100000000000136, pc_potential=-0.04011896634687662), PotentialSite(specie='O', distance=4.1685263673441835, potential=0.014300000000005753, pc_potential=None), PotentialSite(specie='O', distance=6.592548635565889, potential=0.04040000000000532, pc_potential=-0.03500012227433136), PotentialSite(specie='O', distance=5.007466972081894, potential=0.04930000000000234, pc_potential=None), PotentialSite(specie='O', distance=7.214990464596424, potential=0.02190000000000225, pc_potential=-0.04255095800268619), PotentialSite(specie='O', distance=2.5213171239576826, potential=0.1770000000000067, pc_potential=None), PotentialSite(specie='O', distance=4.851853398183524, potential=0.05830000000000268, pc_potential=None), PotentialSite(specie='O', distance=3.930430482416248, potential=0.005700000000004479, pc_potential=None), PotentialSite(specie='O', distance=5.688330682798399, potential=-0.0011999999999972033, pc_potential=-0.02235351798177445), PotentialSite(specie='O', distance=7.375221457771922, potential=0.10269999999999868, pc_potential=-0.027732012388930027), PotentialSite(specie='O', distance=5.234973654917123, potential=0.048700000000010846, pc_potential=None), PotentialSite(specie='O', distance=5.165750771894574, potential=0.050600000000002865, pc_potential=None), PotentialSite(specie='O', distance=8.59439065774325, potential=0.004200000000011528, pc_potential=-0.05098482066138016), PotentialSite(specie='O', distance=7.495054735052062, potential=0.07480000000001041, pc_potential=-0.04514688821596426), PotentialSite(specie='O', distance=6.808945447479863, potential=0.043600000000012074, pc_potential=-0.03810330469705981), PotentialSite(specie='O', distance=5.3533706288518985, potential=0.034199999999998454, pc_potential=-0.026049248636630197), PotentialSite(specie='O', distance=4.122053307284547, potential=0.14700000000000557, pc_potential=None), PotentialSite(specie='O', distance=3.7650567998655804, potential=0.05469999999999686, pc_potential=None), PotentialSite(specie='O', distance=4.608178482452311, potential=0.05570000000000164, pc_potential=None), PotentialSite(specie='O', distance=4.303778482046599, potential=0.28019999999999357, pc_potential=None), PotentialSite(specie='O', distance=5.455544630425438, potential=0.014899999999997249, pc_potential=-0.029844885840722337), PotentialSite(specie='O', distance=4.246232390281172, potential=0.1786999999999921, pc_potential=None), PotentialSite(specie='O', distance=5.8773128730663, potential=0.025199999999998113, pc_potential=-0.035491721641087354), PotentialSite(specie='O', distance=4.73990787537062, potential=0.04550000000000409, pc_potential=None), PotentialSite(specie='O', distance=5.696033965439271, potential=0.005899999999996908, pc_potential=-0.02078120741176148), PotentialSite(specie='O', distance=5.886376505074238, potential=0.035799999999994725, pc_potential=-0.025041522972857458), PotentialSite(specie='O', distance=2.955149516093084, potential=0.0999000000000052, pc_potential=None), PotentialSite(specie='O', distance=3.335102673350859, potential=0.043099999999995475, pc_potential=None), PotentialSite(specie='O', distance=6.868152218069439, potential=0.010800000000003251, pc_potential=-0.042810768444630956), PotentialSite(specie='O', distance=6.335710527154181, potential=0.02370000000000516, pc_potential=-0.03810349633626799), PotentialSite(specie='O', distance=4.877735698548909, potential=0.030299999999996885, pc_potential=None), PotentialSite(specie='O', distance=4.075059597550258, potential=0.05379999999999541, pc_potential=None), PotentialSite(specie='O', distance=6.777634870001809, potential=0.01630000000000109, pc_potential=-0.04449989315183877), PotentialSite(specie='O', distance=7.265923919097427, potential=0.032399999999995543, pc_potential=-0.04660957992200128), PotentialSite(specie='O', distance=4.793471145970267, potential=0.024799999999999045, pc_potential=None), PotentialSite(specie='O', distance=5.469189253211011, potential=0.01120000000000232, pc_potential=-0.03055941716950217), PotentialSite(specie='O', distance=5.650323591366834, potential=0.01300000000000523, pc_potential=-0.018891172374972037), PotentialSite(specie='O', distance=5.412944043029707, potential=0.019000000000005457, pc_potential=-0.013982850355582109), PotentialSite(specie='O', distance=3.00999451367989, potential=0.052399999999991564, pc_potential=None), PotentialSite(specie='O', distance=2.377589831837725, potential=0.299199999999999, pc_potential=None), PotentialSite(specie='O', distance=4.072665159398335, potential=0.22279999999999234, pc_potential=None), PotentialSite(specie='O', distance=2.9920557861312695, potential=0.031899999999993156, pc_potential=None), PotentialSite(specie='O', distance=4.506057121829583, potential=0.03810000000000002, pc_potential=None), PotentialSite(specie='O', distance=3.6370670157570677, potential=0.10679999999999268, pc_potential=None), PotentialSite(specie='O', distance=5.676808547941007, potential=0.034199999999998454, pc_potential=-0.036636543339221686), PotentialSite(specie='O', distance=5.8543608679547505, potential=0.014099999999999113, pc_potential=-0.03641250805398013), PotentialSite(specie='O', distance=6.007204069923951, potential=0.015699999999995384, pc_potential=-0.040545423211198424), PotentialSite(specie='O', distance=6.1746490375658, potential=0.020600000000001728, pc_potential=-0.040152717492949616)], defect_coords=(0.53278853, 0.58633163, 0.42458197))})\n"
     ]
    },
    {
     "ename": "TypeError",
     "evalue": "'CorrectionResult' object is not callable",
     "output_type": "error",
     "traceback": [
      "\u001b[0;31m---------------------------------------------------------------------------\u001b[0m",
      "\u001b[0;31mTypeError\u001b[0m                                 Traceback (most recent call last)",
      "Cell \u001b[0;32mIn[16], line 7\u001b[0m\n\u001b[1;32m      5\u001b[0m correction, error \u001b[38;5;241m=\u001b[39m defect_entry\u001b[38;5;241m.\u001b[39mget_kumagai_correction(return_correction_error\u001b[38;5;241m=\u001b[39m\u001b[38;5;28;01mTrue\u001b[39;00m)\n\u001b[1;32m      6\u001b[0m \u001b[38;5;28mprint\u001b[39m(correction)\n\u001b[0;32m----> 7\u001b[0m intercept_O_poor \u001b[38;5;241m=\u001b[39m U_VO1plus_1 \u001b[38;5;241m-\u001b[39m U_sc_pft \u001b[38;5;241m+\u001b[39m chem_pot_O_poor \u001b[38;5;241m+\u001b[39m \u001b[43mcorrection\u001b[49m\u001b[43m(\u001b[49m\u001b[38;5;124;43m'\u001b[39;49m\u001b[38;5;124;43mcorrection_energy\u001b[39;49m\u001b[38;5;124;43m'\u001b[39;49m\u001b[43m)\u001b[49m\n\u001b[1;32m      8\u001b[0m intercept_O_rich \u001b[38;5;241m=\u001b[39m U_VO1plus_1 \u001b[38;5;241m-\u001b[39m U_sc_pft \u001b[38;5;241m+\u001b[39m chem_pot_O_rich \u001b[38;5;241m+\u001b[39m correction(\u001b[38;5;124m'\u001b[39m\u001b[38;5;124mcorrection_energy\u001b[39m\u001b[38;5;124m'\u001b[39m)\n\u001b[1;32m      9\u001b[0m \u001b[38;5;28mprint\u001b[39m(\u001b[38;5;124mf\u001b[39m\u001b[38;5;124m\"\u001b[39m\u001b[38;5;124mO_poor: y = x + \u001b[39m\u001b[38;5;132;01m{\u001b[39;00m\u001b[38;5;28mround\u001b[39m(intercept_O_poor,\u001b[38;5;250m \u001b[39m\u001b[38;5;241m5\u001b[39m)\u001b[38;5;132;01m}\u001b[39;00m\u001b[38;5;130;01m\\n\u001b[39;00m\u001b[38;5;124mO_rich: y = x + \u001b[39m\u001b[38;5;132;01m{\u001b[39;00m\u001b[38;5;28mround\u001b[39m(intercept_O_rich,\u001b[38;5;250m \u001b[39m\u001b[38;5;241m5\u001b[39m)\u001b[38;5;132;01m}\u001b[39;00m\u001b[38;5;124m\"\u001b[39m)\n",
      "\u001b[0;31mTypeError\u001b[0m: 'CorrectionResult' object is not callable"
     ]
    }
   ],
   "source": [
    "U_VO1plus_1 = -918.73848174\n",
    "U_sc_pft = -921.13045813\n",
    "defect_entry = analysis.defect_entry_from_paths(defect_path=filepath+\"VO1+_1/pbe\", bulk_path=filepath+\"pft/pbe\", dielectric=stastic_dielec)\n",
    "print(f\"Charge: {defect_entry.charge_state} at site: {defect_entry.defect_supercell_site.frac_coords}\")\n",
    "correction, error = defect_entry.get_kumagai_correction(return_correction_error=True)\n",
    "print(correction)\n",
    "intercept_O_poor = U_VO1plus_1 - U_sc_pft + chem_pot_O_poor + correction('correction_energy')\n",
    "intercept_O_rich = U_VO1plus_1 - U_sc_pft + chem_pot_O_rich + correction('correction_energy')\n",
    "print(f\"O_poor: y = x + {round(intercept_O_poor, 5)}\\nO_rich: y = x + {round(intercept_O_rich, 5)}\")"
   ]
  },
  {
   "cell_type": "code",
   "execution_count": 6,
   "metadata": {},
   "outputs": [
    {
     "name": "stdout",
     "output_type": "stream",
     "text": [
      "Charge: 1 at site: [0.27462902 0.62157977 0.26201714]\n",
      "Calculated Kumagai (eFNV) correction is 0.023 eV\n",
      "O_poor: y = x + -7.40257\n",
      "O_rich: y = x + -2.08263\n"
     ]
    }
   ],
   "source": [
    "U_VO1plus_2 = -918.39466538\n",
    "defect_entry = analysis.defect_entry_from_paths(defect_path=filepath+\"VO1+_2/pbe\", bulk_path=filepath+\"pft/pbe\", dielectric=stastic_dielec)\n",
    "print(f\"Charge: {defect_entry.charge_state} at site: {defect_entry.defect_supercell_site.frac_coords}\")\n",
    "correction, error = defect_entry.get_kumagai_correction(return_correction_error=True)\n",
    "intercept_O_poor = U_VO1plus_2 - U_sc_pft + chem_pot_O_poor \n",
    "intercept_O_rich = U_VO1plus_2 - U_sc_pft + chem_pot_O_rich\n",
    "print(f\"O_poor: y = x + {round(intercept_O_poor, 5)}\\nO_rich: y = x + {round(intercept_O_rich, 5)}\")"
   ]
  },
  {
   "cell_type": "code",
   "execution_count": 9,
   "metadata": {},
   "outputs": [
    {
     "name": "stdout",
     "output_type": "stream",
     "text": [
      "Charge: 2 at site: [0.53278853 0.58633163 0.42458197]\n",
      "Calculated Kumagai (eFNV) correction is 0.219 eV\n",
      "O_poor: y = 2 * x + -7.40257\n",
      "O_rich: y = 2 * x + -2.08263\n"
     ]
    }
   ],
   "source": [
    "U_VO2plus_1 = -927.17015959\n",
    "defect_entry = analysis.defect_entry_from_paths(defect_path=filepath+\"VO2+_1/pbe\", bulk_path=filepath+\"pft/pbe\", dielectric=stastic_dielec)\n",
    "print(f\"Charge: {defect_entry.charge_state} at site: {defect_entry.defect_supercell_site.frac_coords}\")\n",
    "correction, error = defect_entry.get_kumagai_correction(return_correction_error=True)\n",
    "intercept_O_poor = U_VO1plus_2 - U_sc_pft + chem_pot_O_poor \n",
    "intercept_O_rich = U_VO1plus_2 - U_sc_pft + chem_pot_O_rich\n",
    "print(f\"O_poor: y = 2 * x + {round(intercept_O_poor, 5)}\\nO_rich: y = 2 * x + {round(intercept_O_rich, 5)}\")"
   ]
  },
  {
   "cell_type": "code",
   "execution_count": 11,
   "metadata": {},
   "outputs": [
    {
     "name": "stdout",
     "output_type": "stream",
     "text": [
      "Charge: 2 at site: [0.27462902 0.62157977 0.26201714]\n",
      "Calculated Kumagai (eFNV) correction is 0.192 eV\n",
      "O_poor: y = 2 * x + -15.49984\n",
      "O_rich: y = 2 * x + -10.1799\n"
     ]
    }
   ],
   "source": [
    "U_VO2plus_2 = -926.49193602\n",
    "defect_entry = analysis.defect_entry_from_paths(defect_path=filepath+\"VO2+_2/pbe\", bulk_path=filepath+\"pft/pbe\", dielectric=stastic_dielec)\n",
    "print(f\"Charge: {defect_entry.charge_state} at site: {defect_entry.defect_supercell_site.frac_coords}\")\n",
    "correction, error = defect_entry.get_kumagai_correction(return_correction_error=True)\n",
    "intercept_O_poor = U_VO2plus_2 - U_sc_pft + chem_pot_O_poor \n",
    "intercept_O_rich = U_VO2plus_2 - U_sc_pft + chem_pot_O_rich\n",
    "print(f\"O_poor: y = 2 * x + {round(intercept_O_poor, 5)}\\nO_rich: y = 2 * x + {round(intercept_O_rich, 5)}\")"
   ]
  },
  {
   "cell_type": "markdown",
   "metadata": {},
   "source": [
    "hse06结果"
   ]
  },
  {
   "cell_type": "code",
   "execution_count": 2,
   "metadata": {},
   "outputs": [
    {
     "name": "stdout",
     "output_type": "stream",
     "text": [
      "O_poor: y = 3.24039\n",
      "O_rich: y = 8.56033\n"
     ]
    }
   ],
   "source": [
    "U_VO_1 = -1101.17925090\n",
    "U_sc_pft = -1114.55800350\n",
    "intercept_O_poor = U_VO_1 - U_sc_pft + chem_pot_O_poor \n",
    "intercept_O_rich = U_VO_1 - U_sc_pft + chem_pot_O_rich\n",
    "print(f\"O_poor: y = {round(intercept_O_poor, 5)}\\nO_rich: y = {round(intercept_O_rich, 5)}\")"
   ]
  },
  {
   "cell_type": "code",
   "execution_count": 4,
   "metadata": {},
   "outputs": [
    {
     "name": "stdout",
     "output_type": "stream",
     "text": [
      "O_poor: y = 3.15805\n",
      "O_rich: y = 8.47799\n"
     ]
    }
   ],
   "source": [
    "U_VO_2 = -1101.26159106\n",
    "U_sc_pft = -1114.55800350\n",
    "intercept_O_poor = U_VO_2 - U_sc_pft + chem_pot_O_poor \n",
    "intercept_O_rich = U_VO_2 - U_sc_pft + chem_pot_O_rich\n",
    "print(f\"O_poor: y = {round(intercept_O_poor, 5)}\\nO_rich: y = {round(intercept_O_rich, 5)}\")"
   ]
  },
  {
   "cell_type": "code",
   "execution_count": 5,
   "metadata": {},
   "outputs": [
    {
     "name": "stdout",
     "output_type": "stream",
     "text": [
      "Charge: 1 at site: [0.53336781 0.58580703 0.42450334]\n",
      "Calculated Kumagai (eFNV) correction is 0.033 eV\n",
      "O_poor: y = x + -5.75645\n",
      "O_rich: y = x + -0.43651\n"
     ]
    }
   ],
   "source": [
    "U_VO1plus_1 = -1110.17609376\n",
    "U_sc_pft = -1114.55800350\n",
    "defect_entry = analysis.defect_entry_from_paths(defect_path=filepath+\"VO1+_1/hse06\", bulk_path=filepath+\"pft/hse06\", dielectric=stastic_dielec)\n",
    "print(f\"Charge: {defect_entry.charge_state} at site: {defect_entry.defect_supercell_site.frac_coords}\")\n",
    "correction, error = defect_entry.get_kumagai_correction(return_correction_error=True)\n",
    "intercept_O_poor = U_VO1plus_1 - U_sc_pft + chem_pot_O_poor \n",
    "intercept_O_rich = U_VO1plus_1 - U_sc_pft + chem_pot_O_rich\n",
    "print(f\"O_poor: y = x + {round(intercept_O_poor, 5)}\\nO_rich: y = x + {round(intercept_O_rich, 5)}\")"
   ]
  },
  {
   "cell_type": "code",
   "execution_count": 6,
   "metadata": {},
   "outputs": [
    {
     "name": "stdout",
     "output_type": "stream",
     "text": [
      "Charge: 1 at site: [0.27439685 0.62161006 0.26140145]\n",
      "Calculated Kumagai (eFNV) correction is 0.029 eV\n",
      "O_poor: y = x + -5.3494\n",
      "O_rich: y = x + -0.02946\n"
     ]
    }
   ],
   "source": [
    "U_VO1plus_2 = -1109.76904379\n",
    "U_sc_pft = -1114.55800350\n",
    "defect_entry = analysis.defect_entry_from_paths(defect_path=filepath+\"VO1+_2/hse06\", bulk_path=filepath+\"pft/hse06\", dielectric=stastic_dielec)\n",
    "print(f\"Charge: {defect_entry.charge_state} at site: {defect_entry.defect_supercell_site.frac_coords}\")\n",
    "correction, error = defect_entry.get_kumagai_correction(return_correction_error=True)\n",
    "intercept_O_poor = U_VO1plus_2 - U_sc_pft + chem_pot_O_poor \n",
    "intercept_O_rich = U_VO1plus_2 - U_sc_pft + chem_pot_O_rich\n",
    "print(f\"O_poor: y = x + {round(intercept_O_poor, 5)}\\nO_rich: y = x + {round(intercept_O_rich, 5)}\")"
   ]
  },
  {
   "cell_type": "code",
   "execution_count": 8,
   "metadata": {},
   "outputs": [
    {
     "name": "stdout",
     "output_type": "stream",
     "text": [
      "Charge: 2 at site: [0.53336781 0.58580703 0.42450334]\n",
      "Calculated Kumagai (eFNV) correction is 0.244 eV\n",
      "O_poor: y = 2 * x + -14.44478\n",
      "O_rich: y = 2 * x + -9.12484\n"
     ]
    }
   ],
   "source": [
    "U_VO2plus_1 = -1118.86442157\n",
    "U_sc_pft = -1114.55800350\n",
    "defect_entry = analysis.defect_entry_from_paths(defect_path=filepath+\"VO2+_1/hse06\", bulk_path=filepath+\"pft/hse06\", dielectric=stastic_dielec)\n",
    "print(f\"Charge: {defect_entry.charge_state} at site: {defect_entry.defect_supercell_site.frac_coords}\")\n",
    "correction, error = defect_entry.get_kumagai_correction(return_correction_error=True)\n",
    "intercept_O_poor = U_VO2plus_1 - U_sc_pft + chem_pot_O_poor \n",
    "intercept_O_rich = U_VO2plus_1 - U_sc_pft + chem_pot_O_rich\n",
    "print(f\"O_poor: y = 2 * x + {round(intercept_O_poor, 5)}\\nO_rich: y = 2 * x + {round(intercept_O_rich, 5)}\")"
   ]
  },
  {
   "cell_type": "code",
   "execution_count": 9,
   "metadata": {},
   "outputs": [
    {
     "name": "stdout",
     "output_type": "stream",
     "text": [
      "Charge: 1 at site: [0.27439685 0.62161006 0.26140145]\n",
      "Calculated Kumagai (eFNV) correction is 0.029 eV\n",
      "O_poor: y = 2 * x + -5.3494\n",
      "O_rich: y = 2 * x + -0.02946\n"
     ]
    }
   ],
   "source": [
    "U_VO2plus_2 = -1109.76904422\n",
    "U_sc_pft = -1114.55800350\n",
    "defect_entry = analysis.defect_entry_from_paths(defect_path=filepath+\"VO2+_2/hse06\", bulk_path=filepath+\"pft/hse06\", dielectric=stastic_dielec)\n",
    "print(f\"Charge: {defect_entry.charge_state} at site: {defect_entry.defect_supercell_site.frac_coords}\")\n",
    "correction, error = defect_entry.get_kumagai_correction(return_correction_error=True)\n",
    "intercept_O_poor = U_VO2plus_2 - U_sc_pft + chem_pot_O_poor \n",
    "intercept_O_rich = U_VO2plus_2 - U_sc_pft + chem_pot_O_rich\n",
    "print(f\"O_poor: y = 2 * x + {round(intercept_O_poor, 5)}\\nO_rich: y = 2 * x + {round(intercept_O_rich, 5)}\")"
   ]
  }
 ],
 "metadata": {
  "kernelspec": {
   "display_name": "doped",
   "language": "python",
   "name": "python3"
  },
  "language_info": {
   "codemirror_mode": {
    "name": "ipython",
    "version": 3
   },
   "file_extension": ".py",
   "mimetype": "text/x-python",
   "name": "python",
   "nbconvert_exporter": "python",
   "pygments_lexer": "ipython3",
   "version": "3.9.19"
  }
 },
 "nbformat": 4,
 "nbformat_minor": 2
}
