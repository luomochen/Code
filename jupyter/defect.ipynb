{
 "cells": [
  {
   "cell_type": "code",
   "execution_count": 1,
   "metadata": {},
   "outputs": [
    {
     "name": "stdout",
     "output_type": "stream",
     "text": [
      "-10.13849297828125 -4.818422823333333\n"
     ]
    }
   ],
   "source": [
    "import re\n",
    "import math\n",
    "import numpy as np\n",
    "from pprint import pprint\n",
    "from subprocess import getstatusoutput\n",
    "from doped import analysis\n",
    "from matplotlib import pyplot as plt\n",
    "\n",
    "def get_free_energy(OUTCAR_file_path):\n",
    "    input = \"gawk '/TOTEN/' \" + OUTCAR_file_path\n",
    "    get_free_energy = getstatusoutput(input)\n",
    "    if get_free_energy[0] == 0:\n",
    "        free_energy_list = re.findall(r\"=(.+?)eV\", get_free_energy[1])\n",
    "        try:\n",
    "            free_energy_list = [float(free_energy.strip()) \n",
    "                                for free_energy in free_energy_list]\n",
    "        except ValueError:\n",
    "            free_energy_list = ['NaN']\n",
    "        return free_energy_list\n",
    "    else:\n",
    "        return ['NaN']\n",
    "\n",
    "def charge_correction(filepath, defect_directory, stastic_dielec):\n",
    "    defect_entry = analysis.defect_entry_from_paths(defect_path=filepath+defect_directory, \n",
    "                                                    bulk_path=filepath+\"pft\",\n",
    "                                                    dielectric=stastic_dielec)\n",
    "    print(f\"Charge: {defect_entry.charge_state} at site: {defect_entry.defect_supercell_site.frac_coords}\")\n",
    "    correction, error = defect_entry.get_kumagai_correction(return_correction_error=True)\n",
    "    print(f\"error range: {error}\")\n",
    "    correction = defect_entry.corrections['kumagai_charge_correction']\n",
    "    return correction, error\n",
    "\n",
    "def plot_formation_enthalpy_fermi_level_diagram(defect_data, band_structure):\n",
    "    level_span = max(defect_data[3:6])+0.5\n",
    "    enthalpy_span = np.linspace(defect_data[0]-0.5, defect_data[1]+0.5, 120)\n",
    "    E_fermi = np.arange(0, level_span+0.5, 0.1)\n",
    "    E_formation_Hip = E_fermi + defect_data[0]\n",
    "    E_formation_Him = -E_fermi + defect_data[1]\n",
    "    E_formation_Hin = 0 * E_fermi + defect_data[2]\n",
    "    E_formation = [E_formation_Hip, E_formation_Him, E_formation_Hin]\n",
    "    gap = np.ones(enthalpy_span.size)*band_structure[2]\n",
    "\n",
    "\n",
    "filepath = \"/mnt/d/Workspace/Data/ZrO2/defect/P21c/0GPa/VO/\"\n",
    "VBM = 5.6336\n",
    "CBM = 9.2633\n",
    "BAND_GAP = 3.6297\n",
    "chemical_potential_Zr = -17.01668172 / 2\n",
    "chemical_potential_O = -28.91053694 / 6\n",
    "enthalpy_pft = get_free_energy(filepath+\"pft/OUTCAR\")[-1]\n",
    "chemical_potential_O_poor = (enthalpy_pft / 32 - chemical_potential_Zr) / 2\n",
    "chemical_potential_O_rich = chemical_potential_O\n",
    "high_freq_dielec = np.array([[5.328996, 0.000000, 0.154152],\n",
    "                            [0.000000, 5.362658, 0.000000],\n",
    "                            [0.154152, 0.000000, 5.005340]])\n",
    "ionic_dielec = np.array([[19.107809, 0.000000, 1.357205],\n",
    "                        [0.000000, 17.240765, -0.000000],\n",
    "                        [1.357205, -0.000000, 13.257194]])\n",
    "stastic_dielec = high_freq_dielec + ionic_dielec\n",
    "print(chemical_potential_O_poor, chemical_potential_O_rich)"
   ]
  },
  {
   "cell_type": "code",
   "execution_count": 2,
   "metadata": {},
   "outputs": [
    {
     "name": "stdout",
     "output_type": "stream",
     "text": [
      "-910.07163187\n",
      "0.9203332817186833 6.2404034366665995\n"
     ]
    }
   ],
   "source": [
    "enthalpy_VO_1 = get_free_energy(filepath+\"VO_1/OUTCAR\")[-1]\n",
    "print(enthalpy_VO_1)\n",
    "intercept_O_poor = enthalpy_VO_1 - enthalpy_pft + chemical_potential_O_poor \n",
    "intercept_O_rich = enthalpy_VO_1 - enthalpy_pft + chemical_potential_O_rich\n",
    "print(intercept_O_poor, intercept_O_rich)"
   ]
  },
  {
   "cell_type": "code",
   "execution_count": 3,
   "metadata": {},
   "outputs": [
    {
     "name": "stdout",
     "output_type": "stream",
     "text": [
      "-918.73848174\n",
      "Charge: 1 at site: [0.53278853 0.58633163 0.42458197]\n",
      "Calculated Kumagai (eFNV) correction is 0.027 eV\n",
      "-7.746516588281281 -2.426446433333365\n"
     ]
    }
   ],
   "source": [
    "enthalpy_VO1plus_1 = get_free_energy(filepath+\"VO1+_1/OUTCAR\")[-1]\n",
    "print(enthalpy_VO1plus_1)\n",
    "defect_entry = analysis.defect_entry_from_paths(defect_path=filepath+\"VO1+_1/\", bulk_path=filepath+\"pft/\", dielectric=stastic_dielec)\n",
    "print(f\"Charge: {defect_entry.charge_state} at site: {defect_entry.defect_supercell_site.frac_coords}\")\n",
    "correction, error = defect_entry.get_kumagai_correction(return_correction_error=True)\n",
    "intercept_O_poor = enthalpy_VO1plus_1 - enthalpy_pft + chemical_potential_O_poor \n",
    "intercept_O_rich = enthalpy_VO1plus_1 - enthalpy_pft + chemical_potential_O_rich\n",
    "print(intercept_O_poor, intercept_O_rich)"
   ]
  },
  {
   "cell_type": "code",
   "execution_count": 4,
   "metadata": {},
   "outputs": [
    {
     "name": "stdout",
     "output_type": "stream",
     "text": [
      "-918.73848174\n",
      "Charge: 2 at site: [0.53278853 0.58633163 0.42458197]\n",
      "Calculated Kumagai (eFNV) correction is 0.219 eV\n",
      "-16.17819443828131 -10.858124283333392\n"
     ]
    }
   ],
   "source": [
    "enthalpy_VO2plus_1 = get_free_energy(filepath+\"VO2+_1/OUTCAR\")[-1]\n",
    "print(enthalpy_VO1plus_1)\n",
    "defect_entry = analysis.defect_entry_from_paths(defect_path=filepath+\"VO2+_1/\", bulk_path=filepath+\"pft/\", dielectric=stastic_dielec)\n",
    "print(f\"Charge: {defect_entry.charge_state} at site: {defect_entry.defect_supercell_site.frac_coords}\")\n",
    "correction, error = defect_entry.get_kumagai_correction(return_correction_error=True)\n",
    "intercept_O_poor = enthalpy_VO2plus_1 - enthalpy_pft + chemical_potential_O_poor \n",
    "intercept_O_rich = enthalpy_VO2plus_1 - enthalpy_pft + chemical_potential_O_rich\n",
    "print(intercept_O_poor, intercept_O_rich)"
   ]
  },
  {
   "cell_type": "code",
   "execution_count": 5,
   "metadata": {},
   "outputs": [
    {
     "name": "stdout",
     "output_type": "stream",
     "text": [
      "0.8020094717186907 6.122079626666607\n"
     ]
    }
   ],
   "source": [
    "enthalpy_VO_2 = get_free_energy(filepath+\"VO_2/OUTCAR\")[-1]\n",
    "intercept_O_poor = enthalpy_VO_2 - enthalpy_pft + chemical_potential_O_poor \n",
    "intercept_O_rich = enthalpy_VO_2 - enthalpy_pft + chemical_potential_O_rich\n",
    "print(intercept_O_poor, intercept_O_rich)"
   ]
  },
  {
   "cell_type": "code",
   "execution_count": 6,
   "metadata": {},
   "outputs": [
    {
     "name": "stdout",
     "output_type": "stream",
     "text": [
      "-918.73848174\n",
      "Charge: 1 at site: [0.27462902 0.62157977 0.26201714]\n",
      "Calculated Kumagai (eFNV) correction is 0.023 eV\n",
      "-7.402700228281276 -2.08263007333336\n"
     ]
    }
   ],
   "source": [
    "enthalpy_VO1plus_2 = get_free_energy(filepath+\"VO1+_2/OUTCAR\")[-1]\n",
    "print(enthalpy_VO1plus_1)\n",
    "defect_entry = analysis.defect_entry_from_paths(defect_path=filepath+\"VO1+_2/\", bulk_path=filepath+\"pft/\", dielectric=stastic_dielec)\n",
    "print(f\"Charge: {defect_entry.charge_state} at site: {defect_entry.defect_supercell_site.frac_coords}\")\n",
    "correction, error = defect_entry.get_kumagai_correction(return_correction_error=True)\n",
    "intercept_O_poor = enthalpy_VO1plus_2 - enthalpy_pft + chemical_potential_O_poor \n",
    "intercept_O_rich = enthalpy_VO1plus_2 - enthalpy_pft + chemical_potential_O_rich\n",
    "print(intercept_O_poor, intercept_O_rich)"
   ]
  },
  {
   "cell_type": "code",
   "execution_count": 7,
   "metadata": {},
   "outputs": [
    {
     "name": "stdout",
     "output_type": "stream",
     "text": [
      "-918.73848174\n",
      "Charge: 2 at site: [0.27462902 0.62157977 0.26201714]\n",
      "Calculated Kumagai (eFNV) correction is 0.192 eV\n",
      "-15.49997086828131 -10.179900713333392\n"
     ]
    }
   ],
   "source": [
    "enthalpy_VO2plus_2 = get_free_energy(filepath+\"VO2+_2/OUTCAR\")[-1]\n",
    "print(enthalpy_VO1plus_1)\n",
    "defect_entry = analysis.defect_entry_from_paths(defect_path=filepath+\"VO2+_2/\", bulk_path=filepath+\"pft/\", dielectric=stastic_dielec)\n",
    "print(f\"Charge: {defect_entry.charge_state} at site: {defect_entry.defect_supercell_site.frac_coords}\")\n",
    "correction, error = defect_entry.get_kumagai_correction(return_correction_error=True)\n",
    "intercept_O_poor = enthalpy_VO2plus_2 - enthalpy_pft + chemical_potential_O_poor \n",
    "intercept_O_rich = enthalpy_VO2plus_2 - enthalpy_pft + chemical_potential_O_rich\n",
    "print(intercept_O_poor, intercept_O_rich)"
   ]
  }
 ],
 "metadata": {
  "kernelspec": {
   "display_name": "doped",
   "language": "python",
   "name": "python3"
  },
  "language_info": {
   "codemirror_mode": {
    "name": "ipython",
    "version": 3
   },
   "file_extension": ".py",
   "mimetype": "text/x-python",
   "name": "python",
   "nbconvert_exporter": "python",
   "pygments_lexer": "ipython3",
   "version": "3.9.19"
  }
 },
 "nbformat": 4,
 "nbformat_minor": 2
}
