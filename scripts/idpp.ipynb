{
 "cells": [
  {
   "cell_type": "code",
   "execution_count": 8,
   "metadata": {},
   "outputs": [],
   "source": [
    "import os\n",
    "import re\n",
    "from ase.io import vasp\n",
    "from ase.neb import NEB\n",
    "from ase.optimize import BFGS"
   ]
  },
  {
   "cell_type": "code",
   "execution_count": 9,
   "metadata": {},
   "outputs": [],
   "source": [
    "filepath = \"/root/code/Scripts/Test/path1/\""
   ]
  },
  {
   "cell_type": "code",
   "execution_count": 10,
   "metadata": {},
   "outputs": [],
   "source": [
    "ini = vasp.read_vasp(filepath+\"ini/CONTCAR\")\n",
    "fin = vasp.read_vasp(filepath+\"fin/CONTCAR\")\n",
    "images = [ini]\n",
    "images += [ini.copy() for i in range(3)]\n",
    "images += [fin]\n",
    "neb = NEB(images)\n",
    "neb.interpolate(method=\"idpp\")"
   ]
  },
  {
   "cell_type": "code",
   "execution_count": 11,
   "metadata": {},
   "outputs": [],
   "source": [
    "for i in range(len(images)):\n",
    "    if not os.path.exists('%02d' % i):\n",
    "        os.mkdir('%02d' % i)\n",
    "    vasp.write_vasp('%02d/POSCAR' % i, images[i], direct=True, wrap=True)"
   ]
  }
 ],
 "metadata": {
  "kernelspec": {
   "display_name": "base",
   "language": "python",
   "name": "python3"
  },
  "language_info": {
   "codemirror_mode": {
    "name": "ipython",
    "version": 3
   },
   "file_extension": ".py",
   "mimetype": "text/x-python",
   "name": "python",
   "nbconvert_exporter": "python",
   "pygments_lexer": "ipython3",
   "version": "3.9.7"
  }
 },
 "nbformat": 4,
 "nbformat_minor": 2
}
